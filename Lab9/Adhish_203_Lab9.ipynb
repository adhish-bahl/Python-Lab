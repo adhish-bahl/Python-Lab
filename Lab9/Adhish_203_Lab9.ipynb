{
 "cells": [
  {
   "cell_type": "markdown",
   "metadata": {},
   "source": [
    "Adhish Bahl\n",
    "\n",
    "2347203\n",
    "\n",
    "Python Lab 9"
   ]
  },
  {
   "cell_type": "markdown",
   "metadata": {},
   "source": [
    "#### **Q1. Write a program to distinguish between Array Indexing and Fancy Indexing.**"
   ]
  },
  {
   "cell_type": "code",
   "execution_count": 85,
   "metadata": {},
   "outputs": [
    {
     "name": "stdout",
     "output_type": "stream",
     "text": [
      "Original Array: \n",
      " [[1 2 3]\n",
      " [4 5 6]\n",
      " [7 8 9]]\n",
      "\n",
      "Array Indexing:\n",
      "Printing value for arr[2][0]:  7\n",
      "\n",
      "Fancy Indexing:\n",
      "Printing value for arr[[1, 2], [2,1]]:  [[4 5 6]\n",
      " [7 8 9]]\n",
      "Printing value for arr[[1, 2], [2,1]]:  [6 8]\n"
     ]
    }
   ],
   "source": [
    "import numpy as np\n",
    "\n",
    "arr = np.array([[1, 2, 3], [4, 5, 6], [7, 8, 9]])\n",
    "print(\"Original Array: \\n\", arr)\n",
    "\n",
    "print(\"\\nArray Indexing:\")\n",
    "print(\"Printing value for arr[2][0]: \", arr[2][0])\n",
    "\n",
    "print(\"\\nFancy Indexing:\")\n",
    "print(\"Printing value for arr[[1, 2], [2,1]]: \", arr[[1, 2], :])\n",
    "print(\"Printing value for arr[[1, 2], [2,1]]: \", arr[[1, 2], [2, 1]])"
   ]
  },
  {
   "cell_type": "markdown",
   "metadata": {},
   "source": [
    "#### **Q2. Execute the 2D array Slicing.**"
   ]
  },
  {
   "cell_type": "code",
   "execution_count": 86,
   "metadata": {},
   "outputs": [
    {
     "name": "stdout",
     "output_type": "stream",
     "text": [
      "\n",
      "Printing value for arr[2, 1:]:  [8 9]\n",
      "\n",
      "Printing value for arr[1, 1:2]:  [5]\n",
      "\n",
      "Printing value for arr[0, :3]:  [1 2 3]\n",
      "\n",
      "Printing value for arr[0:2, 2:6]:\n",
      " [[3]\n",
      " [6]]\n"
     ]
    }
   ],
   "source": [
    "arr = np.array([[1, 2, 3], [4, 5, 6], [7, 8, 9]])\n",
    "\n",
    "print(\"\\nPrinting value for arr[2, 1:]: \",arr[2, 1:])\n",
    "print(\"\\nPrinting value for arr[1, 1:2]: \",arr[1, 1:2])\n",
    "print(\"\\nPrinting value for arr[0, :3]: \",arr[0, :3])\n",
    "print(\"\\nPrinting value for arr[0:2, 2:6]:\\n\",arr[0:2, 2:6])"
   ]
  },
  {
   "cell_type": "markdown",
   "metadata": {},
   "source": [
    "#### **Q3. Create the 5-Dimensional arrays using ‘ndmin’.**"
   ]
  },
  {
   "cell_type": "code",
   "execution_count": 87,
   "metadata": {},
   "outputs": [
    {
     "name": "stdout",
     "output_type": "stream",
     "text": [
      "Printing 5-D Array:  [[[[[1 2 3 4 5 6 7 8 9]]]]]\n",
      "Number of Dimensions: 5\n"
     ]
    }
   ],
   "source": [
    "arr = np.array([1, 2, 3, 4, 5, 6, 7, 8, 9], ndmin=5)\n",
    "\n",
    "print(\"Printing 5-D Array: \", arr)\n",
    "print(\"Number of Dimensions:\", arr.ndim)"
   ]
  },
  {
   "cell_type": "markdown",
   "metadata": {},
   "source": [
    "#### **Q4. Reshape the array from 1-D to 2-D array.**"
   ]
  },
  {
   "cell_type": "code",
   "execution_count": 88,
   "metadata": {},
   "outputs": [
    {
     "name": "stdout",
     "output_type": "stream",
     "text": [
      "Printing 2-D array created using 1-D array:\n",
      " [[ 1  2  3]\n",
      " [ 4  5  6]\n",
      " [ 7  8  9]\n",
      " [10 11 12]]\n"
     ]
    }
   ],
   "source": [
    "arr = np.array([1, 2, 3, 4, 5, 6, 7, 8, 9, 10, 11, 12])\n",
    "newArr = arr.reshape(4, 3)\n",
    "print(\"Printing 2-D array created using 1-D array:\\n\", newArr)"
   ]
  },
  {
   "cell_type": "markdown",
   "metadata": {},
   "source": [
    "#### **Q5. Perform the Stack functions in Numpy arrays – Stack(), hstack(), vstack(), and dstack().**"
   ]
  },
  {
   "cell_type": "code",
   "execution_count": 89,
   "metadata": {},
   "outputs": [
    {
     "name": "stdout",
     "output_type": "stream",
     "text": [
      "Array a:  [1 2 3]\n",
      "Array b:  [4 5 6]\n",
      "\n",
      "Performing stack operation on a and b:\n",
      " [[1 2 3]\n",
      " [4 5 6]]\n",
      "\n",
      "Performing vstack operation on a and b:\n",
      " [[1 2 3]\n",
      " [4 5 6]]\n",
      "\n",
      "Performing hstack operation on a and b:\n",
      " [1 2 3 4 5 6]\n",
      "\n",
      "Array f:\n",
      " [[1 2]\n",
      " [3 4]]\n",
      "\n",
      "Array g:\n",
      " [[5 6]\n",
      " [7 8]]\n",
      "\n",
      "Performing dstack operation on f and g:\n",
      " [[[1 5]\n",
      "  [2 6]]\n",
      "\n",
      " [[3 7]\n",
      "  [4 8]]]\n"
     ]
    }
   ],
   "source": [
    "a = np.array([1, 2, 3])\n",
    "b = np.array([4, 5, 6])\n",
    "\n",
    "print(\"Array a: \", a)\n",
    "print(\"Array b: \", b)\n",
    "\n",
    "c = np.stack((a, b))\n",
    "print(\"\\nPerforming stack operation on a and b:\\n\", c)\n",
    "\n",
    "d = np.vstack((a, b))\n",
    "print(\"\\nPerforming vstack operation on a and b:\\n\", d)\n",
    "\n",
    "e = np.hstack((a, b))\n",
    "print(\"\\nPerforming hstack operation on a and b:\\n\", e)\n",
    "\n",
    "f = np.array([[1, 2], [3, 4]])\n",
    "g = np.array([[5, 6], [7, 8]])\n",
    "\n",
    "print(\"\\nArray f:\\n\", f)\n",
    "print(\"\\nArray g:\\n\", g)\n",
    "\n",
    "h = np.dstack((f, g))\n",
    "print(\"\\nPerforming dstack operation on f and g:\\n\", h)\n"
   ]
  },
  {
   "cell_type": "markdown",
   "metadata": {},
   "source": [
    "#### **Q6. Perform the searchsort method in Numpy array.**"
   ]
  },
  {
   "cell_type": "code",
   "execution_count": 90,
   "metadata": {},
   "outputs": [
    {
     "name": "stdout",
     "output_type": "stream",
     "text": [
      "Index value for 5 is : 4\n"
     ]
    }
   ],
   "source": [
    "a = np.array([1, 2, 3, 4, 5, 6, 7, 8, 9])\n",
    "value = 5\n",
    "\n",
    "index = np.searchsorted(a, value)\n",
    "\n",
    "print(\"Index value for\", value, \"is :\", index)"
   ]
  },
  {
   "cell_type": "markdown",
   "metadata": {},
   "source": [
    "#### **Q7. Create Numpy Structured array using your domain features.**"
   ]
  },
  {
   "cell_type": "code",
   "execution_count": 91,
   "metadata": {},
   "outputs": [
    {
     "name": "stdout",
     "output_type": "stream",
     "text": [
      "The structured array is as follows ==>\n",
      " [('Nike', 'Air Jordan 1 Retro High OG', 17000)\n",
      " ('Adidas', 'Yeezy Boost 350 V2', 22000)\n",
      " ('Converse', \"Chuck Taylor All Star '70\", 85000)]\n",
      "\n",
      "Elements can be accessed as follows ==>\n",
      "Value for sneakers[1]:  ('Adidas', 'Yeezy Boost 350 V2', 22000)\n",
      "Value for sneakers[0][1]:  Air Jordan 1 Retro High OG\n"
     ]
    }
   ],
   "source": [
    "sneakers = np.array([(\"Nike\", \"Air Jordan 1 Retro High OG\", 17000), \n",
    "                     (\"Adidas\", \"Yeezy Boost 350 V2\", 22000), \n",
    "                     (\"Converse\", \"Chuck Taylor All Star '70\", 85000)], \n",
    "                    dtype=[(\"brand\", \"U10\"), (\"model\", \"U30\"), (\"price\", \"i4\")])\n",
    "\n",
    "print(\"The structured array is as follows ==>\\n\", sneakers)\n",
    "print(\"\\nElements can be accessed as follows ==>\\nValue for sneakers[1]: \", sneakers[1])\n",
    "print(\"Value for sneakers[0][1]: \", sneakers[0][1])"
   ]
  },
  {
   "cell_type": "markdown",
   "metadata": {},
   "source": [
    "#### **Q8. Create Data frame using List and Dictionary.**"
   ]
  },
  {
   "cell_type": "code",
   "execution_count": 92,
   "metadata": {},
   "outputs": [
    {
     "name": "stdout",
     "output_type": "stream",
     "text": [
      "Printing the ist of Dictioanry:\n",
      " [{'brand': 'Nike', 'model': 'Air Jordan 1 Retro High OG', 'price': 17000}, {'brand': 'Adidas', 'model': 'Yeezy Boost 350 V2', 'price': 22000}, {'brand': 'Converse', 'model': \"Chuck Taylor All Star '70\", 'price': 85000}, {'brand': 'Nike', 'model': 'Air Max 90', 'price': 12000}, {'brand': 'Puma', 'model': 'Clyde All-Pro', 'price': 11000}]\n",
      "\n",
      "Printing Dataframe created using List and Dictionary:\n",
      "       brand                       model  price\n",
      "0      Nike  Air Jordan 1 Retro High OG  17000\n",
      "1    Adidas          Yeezy Boost 350 V2  22000\n",
      "2  Converse   Chuck Taylor All Star '70  85000\n",
      "3      Nike                  Air Max 90  12000\n",
      "4      Puma               Clyde All-Pro  11000\n"
     ]
    }
   ],
   "source": [
    "import pandas as pd\n",
    "\n",
    "sneakers = [\n",
    "    {\"brand\": \"Nike\", \"model\": \"Air Jordan 1 Retro High OG\", \"price\": 17000},\n",
    "    {\"brand\": \"Adidas\", \"model\": \"Yeezy Boost 350 V2\", \"price\": 22000},\n",
    "    {\"brand\": \"Converse\", \"model\": \"Chuck Taylor All Star '70\", \"price\": 85000},\n",
    "    {\"brand\": \"Nike\", \"model\": \"Air Max 90\", \"price\": 12000},\n",
    "    {\"brand\": \"Puma\", \"model\": \"Clyde All-Pro\", \"price\": 11000}\n",
    "]\n",
    "\n",
    "print(\"Printing the ist of Dictioanry:\\n\", sneakers)\n",
    "\n",
    "df = pd.DataFrame(sneakers)\n",
    "\n",
    "print(\"\\nPrinting Dataframe created using List and Dictionary:\\n\", df)\n"
   ]
  },
  {
   "cell_type": "markdown",
   "metadata": {},
   "source": [
    "#### **Q9. Create Data frame on your Domain area and perform the following operations to find and eliminate the missing data from the dataset.**\n",
    "1. isnull()\n",
    "1. notnull()\n",
    "1. dropna()\n",
    "1. fillna()\n",
    "1. replace()\n",
    "1. interpolate()"
   ]
  },
  {
   "cell_type": "code",
   "execution_count": 93,
   "metadata": {},
   "outputs": [
    {
     "name": "stdout",
     "output_type": "stream",
     "text": [
      "Printing NULL values:\n",
      "    brand  model  price\n",
      "0  False  False  False\n",
      "1  False  False   True\n",
      "2  False   True  False\n",
      "3   True  False  False\n",
      "4  False  False  False\n",
      "\n",
      "Printing not NULL values:\n",
      "    brand  model  price\n",
      "0   True   True   True\n",
      "1   True   True  False\n",
      "2   True  False   True\n",
      "3  False   True   True\n",
      "4   True   True   True\n",
      "\n",
      "Printing dataset after performing df1.dropna(inplace=True):\n",
      "   brand                       model    price\n",
      "0  Nike  Air Jordan 1 Retro High OG  17000.0\n",
      "4  Puma               Clyde All-Pro  11000.0\n",
      "\n",
      "Printing dataset after performing df.fillna(value={\"model\": \"Unknown\", \"price\": 0}, inplace=True):\n",
      "       brand                       model    price\n",
      "0      Nike  Air Jordan 1 Retro High OG  17000.0\n",
      "1    Adidas          Yeezy Boost 350 V2      0.0\n",
      "2  Converse                     Unknown  85000.0\n",
      "3       NaN                  Air Max 90  12000.0\n",
      "4      Puma               Clyde All-Pro  11000.0\n",
      "\n",
      "Printing dataset after performing df.replace(to_replace=np.nan, value={\"brand\": \"Unknown\"}, inplace=True):\n",
      "       brand                       model    price\n",
      "0      Nike  Air Jordan 1 Retro High OG  17000.0\n",
      "1    Adidas          Yeezy Boost 350 V2      0.0\n",
      "2  Converse                     Unknown  85000.0\n",
      "3   Unknown                  Air Max 90  12000.0\n",
      "4      Puma               Clyde All-Pro  11000.0\n",
      "\n",
      "Printing dataset after performing df.interpolate(method=\"linear\", inplace=True):\n",
      "       brand                       model    price\n",
      "0      Nike  Air Jordan 1 Retro High OG  17000.0\n",
      "1    Adidas          Yeezy Boost 350 V2      0.0\n",
      "2  Converse                     Unknown  85000.0\n",
      "3   Unknown                  Air Max 90  12000.0\n",
      "4      Puma               Clyde All-Pro  11000.0\n"
     ]
    },
    {
     "name": "stderr",
     "output_type": "stream",
     "text": [
      "C:\\Users\\adhis\\AppData\\Local\\Temp\\ipykernel_13632\\1349397664.py:25: FutureWarning: DataFrame.interpolate with object dtype is deprecated and will raise in a future version. Call obj.infer_objects(copy=False) before interpolating instead.\n",
      "  df.interpolate(method=\"linear\", inplace=True)\n"
     ]
    }
   ],
   "source": [
    "sneakers = [\n",
    "    {\"brand\": \"Nike\", \"model\": \"Air Jordan 1 Retro High OG\", \"price\": 17000},\n",
    "    {\"brand\": \"Adidas\", \"model\": \"Yeezy Boost 350 V2\", \"price\": np.nan},\n",
    "    {\"brand\": \"Converse\", \"model\": np.nan, \"price\": 85000},\n",
    "    {\"brand\": np.nan, \"model\": \"Air Max 90\", \"price\": 12000},\n",
    "    {\"brand\": \"Puma\", \"model\": \"Clyde All-Pro\", \"price\": 11000}\n",
    "]\n",
    "\n",
    "df = pd.DataFrame(sneakers)\n",
    "\n",
    "print(\"Printing NULL values:\\n\", df.isnull())\n",
    "\n",
    "print(\"\\nPrinting not NULL values:\\n\", df.notnull())\n",
    "\n",
    "df1 = pd.DataFrame(sneakers)\n",
    "df1.dropna(inplace=True)\n",
    "print(\"\\nPrinting dataset after performing df1.dropna(inplace=True):\\n\", df1)\n",
    "\n",
    "df.fillna(value={\"model\": \"Unknown\", \"price\": 0}, inplace=True)\n",
    "print(\"\\nPrinting dataset after performing df.fillna(value={\\\"model\\\": \\\"Unknown\\\", \\\"price\\\": 0}, inplace=True):\\n\", df)\n",
    "\n",
    "df.replace(to_replace=np.nan, value={\"brand\": \"Unknown\"}, inplace=True)\n",
    "print(\"\\nPrinting dataset after performing df.replace(to_replace=np.nan, value={\\\"brand\\\": \\\"Unknown\\\"}, inplace=True):\\n\", df)\n",
    "\n",
    "df.interpolate(method=\"linear\", inplace=True)\n",
    "print(\"\\nPrinting dataset after performing df.interpolate(method=\\\"linear\\\", inplace=True):\\n\", df)\n"
   ]
  },
  {
   "cell_type": "markdown",
   "metadata": {},
   "source": [
    "#### **Q10. Perform the Hierarchical Indexing in the above created dataset.**"
   ]
  },
  {
   "cell_type": "code",
   "execution_count": 94,
   "metadata": {},
   "outputs": [
    {
     "name": "stdout",
     "output_type": "stream",
     "text": [
      "Printing dataframe after setting index:                                       price\n",
      "brand    model                            \n",
      "Nike     Air Jordan 1 Retro High OG  17000\n",
      "Adidas   Yeezy Boost 350 V2          22000\n",
      "Converse Chuck Taylor All Star '70   85000\n",
      "Nike     Air Max 90                  12000\n",
      "Puma     Clyde All-Pro               11000\n"
     ]
    }
   ],
   "source": [
    "sneakers = [\n",
    "    {\"brand\": \"Nike\", \"model\": \"Air Jordan 1 Retro High OG\", \"price\": 17000},\n",
    "    {\"brand\": \"Adidas\", \"model\": \"Yeezy Boost 350 V2\", \"price\": 22000},\n",
    "    {\"brand\": \"Converse\", \"model\": \"Chuck Taylor All Star '70\", \"price\": 85000},\n",
    "    {\"brand\": \"Nike\", \"model\": \"Air Max 90\", \"price\": 12000},\n",
    "    {\"brand\": \"Puma\", \"model\": \"Clyde All-Pro\", \"price\": 11000}\n",
    "]\n",
    "\n",
    "df = pd.DataFrame(sneakers)\n",
    "\n",
    "df.set_index(['brand', 'model'], inplace=True)\n",
    "\n",
    "print(\"Printing dataframe after setting index: \", df)"
   ]
  }
 ],
 "metadata": {
  "kernelspec": {
   "display_name": "Python 3",
   "language": "python",
   "name": "python3"
  },
  "language_info": {
   "codemirror_mode": {
    "name": "ipython",
    "version": 3
   },
   "file_extension": ".py",
   "mimetype": "text/x-python",
   "name": "python",
   "nbconvert_exporter": "python",
   "pygments_lexer": "ipython3",
   "version": "3.11.5"
  },
  "orig_nbformat": 4
 },
 "nbformat": 4,
 "nbformat_minor": 2
}
