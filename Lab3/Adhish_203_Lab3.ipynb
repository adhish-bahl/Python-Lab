{
 "cells": [
  {
   "cell_type": "markdown",
   "metadata": {},
   "source": [
    "Adhish Bahl\n",
    "2347203\n",
    "1MCA B\n",
    "Python Lab 3"
   ]
  },
  {
   "cell_type": "markdown",
   "metadata": {},
   "source": [
    "## **Lab 3**"
   ]
  },
  {
   "cell_type": "markdown",
   "metadata": {},
   "source": [
    "**Question:** Write a function in Python with a string such that it accepts a parameter- “stringsplit”. This encoded string will contain your name, domain name and register number. You can separate the values in the string by any number of underscores. [The string should not contain any other underscore symbols in your name, domain name and register number]. The function should return a Python dictionary with your name, domain name and register number._\n",
    "For example, if the input would be \" Aaron___Googleplaystore____2347201”. Then the function should return the output as follows:\n",
    "{ \"name\": \" Aaron \", \"Domain_name\": \" Googleplaystore \", \"Regno\": \"2347201\" }\n"
   ]
  },
  {
   "cell_type": "code",
   "execution_count": 2,
   "metadata": {},
   "outputs": [
    {
     "name": "stdout",
     "output_type": "stream",
     "text": [
      "\n",
      "Initial String:  Adhish___Sneakers_203\n",
      "\n",
      "\n",
      "{'Name': 'Adhish', 'Domain': 'Sneakers', 'Registration No.': '203'}\n"
     ]
    }
   ],
   "source": [
    "import re\n",
    "def takeInput():\n",
    "    confirm = 0 \n",
    "    while confirm != 1:\n",
    "        stringMain = input(\"\\n\\nEnter the string with your name, domain and reg no seperated with '_': \")\n",
    "        confirm = int(input(f\"\\n{stringMain} is the string you want to enter?\\n1. Confirm\\n2. Enter String Again\\n----------\"))\n",
    "    splitAndDictionary(stringMain)\n",
    "\n",
    "def splitAndDictionary(mainString):\n",
    "    tempList = re.split(\"_+\", mainString)\n",
    "\n",
    "    # tempList2 =  [\"\", \"\", \"\"]\n",
    "    # index = 0\n",
    "    # for i in range(len(mainString)):\n",
    "    #     if mainString[i] != \"_\":\n",
    "    #         tempList2[index] = str(tempList2[index]) + str(mainString[i])\n",
    "    #     elif mainString[i] == \"_\":\n",
    "    #         index = index + 1\n",
    "    # print(tempList2)\n",
    "\n",
    "    finalDict = {\"Name\": tempList[0], \"Domain\": tempList[1], \"Registration No.\": tempList[2]}\n",
    "    print(\"\\nInitial String: \", mainString)\n",
    "    print(f\"\\n\\n{finalDict}\")\n",
    "\n",
    "takeInput()"
   ]
  },
  {
   "cell_type": "markdown",
   "metadata": {},
   "source": [
    "## **Lab 4**"
   ]
  },
  {
   "cell_type": "markdown",
   "metadata": {},
   "source": [
    "**Question:** Write a Python program to implement the object-oriented concepts of multiple, Multilevel and Hierarchical Inheritances using your domain applications."
   ]
  },
  {
   "cell_type": "code",
   "execution_count": 5,
   "metadata": {},
   "outputs": [
    {
     "name": "stdout",
     "output_type": "stream",
     "text": [
      "\n",
      "Brand: Nike \n",
      "Model: Air Force 1 \n",
      "Color: White \n",
      "Size: 10.5 \n",
      "Price: ₹9000\n",
      "\n",
      "Brand: Adidas \n",
      "Model: Yeezy Boost 350 V2 \n",
      "Color: Black/Red \n",
      "Size: 9.5 \n",
      "Price: ₹220\n",
      "Released Date: 2023-02-11 \n",
      "Quantity: 500000 pairs available\n",
      "\n",
      "Brand: Converse \n",
      "Model: Chuck Taylor All Star \n",
      "Color: Navy \n",
      "Size: 8.5 \n",
      "Price: ₹15000\n",
      "Condition: Good \n",
      "Sold by: Alice\n",
      "\n",
      "Brand: Vans \n",
      "Model: Old Skool \n",
      "Color: Black/White \n",
      "Size: 11.5 \n",
      "Price: ₹80000\n",
      "Condition: New \n",
      "Sold by: Bob\n",
      "Customised By: Alice\n",
      "CompanyName: AliceCustoms\n",
      "Company Rating: 4.5\n",
      "Custom design: Flames\n"
     ]
    }
   ],
   "source": [
    "class Sneaker:\n",
    "  def __init__(self, brand, model, color, size, price):\n",
    "    self.brand = brand\n",
    "    self.model = model\n",
    "    self.color = color\n",
    "    self.size = size\n",
    "    self.price = price\n",
    "\n",
    "  def __str__(self):\n",
    "    return (f\"\\nBrand: {self.brand} \\nModel: {self.model} \\nColor: {self.color} \\nSize: {self.size} \\nPrice: ₹{self.price}\")\n",
    "\n",
    "\n",
    "class LimitedEdition(Sneaker):\n",
    "  def __init__(self, brand, model, color, size, price, release_date, quantity):\n",
    "    super().__init__(brand, model, color, size, price)\n",
    "    self.release_date = release_date\n",
    "    self.quantity = quantity\n",
    "\n",
    "  def __str__(self):\n",
    "    return super().__str__() + f\"\\nReleased Date: {self.release_date} \\nQuantity: {self.quantity} pairs available\"\n",
    "\n",
    "\n",
    "class PreOwned(Sneaker):\n",
    "  def __init__(self, brand, model, color, size, price, condition, seller):\n",
    "    super().__init__(brand, model, color, size, price)\n",
    "    self.condition = condition\n",
    "    self.seller = seller\n",
    "\n",
    "  def __str__(self):\n",
    "    return super().__str__() + f\"\\nCondition: {self.condition} \\nSold by: {self.seller}\"\n",
    "\n",
    "\n",
    "class Customiser:\n",
    "  def __init__(self, name, company, rating):\n",
    "    self.name = name\n",
    "    self.company = company\n",
    "    self.rating = rating\n",
    "\n",
    "  def __str__(self):\n",
    "    return (f\"\\nCustomised By: {self.name} \\nComapny: {self.company} \\nRating: {self.rating}\")\n",
    "\n",
    "\n",
    "\n",
    "class Customized(PreOwned, Customiser):\n",
    "  def __init__(self, brand, model, color, size, price, condition, seller, name, company, rating, design):\n",
    "    Sneaker.__init__(self, brand, model, color, size, price)\n",
    "    PreOwned.__init__(self, brand, model, color, size, price, condition, seller)\n",
    "    Customiser.__init__(self, name, company, rating)\n",
    "    self.design = design\n",
    "\n",
    "  def __str__(self):\n",
    "    return super().__str__() + f\"\\nCustomised By: {self.name}\\nCompanyName: {self.company}\\nCompany Rating: {self.rating}\\nCustom design: {self.design}\"\n",
    "\n",
    "s1 = Sneaker(\"Nike\", \"Air Force 1\", \"White\", 10.5, 9000)\n",
    "s2 = LimitedEdition(\"Adidas\", \"Yeezy Boost 350 V2\", \"Black/Red\", 9.5, 220, \"2023-02-11\", 500000)\n",
    "s3 = PreOwned(\"Converse\", \"Chuck Taylor All Star\", \"Navy\", 8.5, 15000, \"Good\", \"Alice\")\n",
    "s4 = Customized(\"Vans\", \"Old Skool\", \"Black/White\", 11.5 ,80000 , \"New\", \"Bob\", \"Alice\", \"AliceCustoms\", 4.5, \"Flames\")\n",
    "\n",
    "print(s1)\n",
    "print(s2)\n",
    "print(s3)\n",
    "print(s4)"
   ]
  }
 ],
 "metadata": {
  "kernelspec": {
   "display_name": "Python 3",
   "language": "python",
   "name": "python3"
  },
  "language_info": {
   "codemirror_mode": {
    "name": "ipython",
    "version": 3
   },
   "file_extension": ".py",
   "mimetype": "text/x-python",
   "name": "python",
   "nbconvert_exporter": "python",
   "pygments_lexer": "ipython3",
   "version": "3.11.5"
  },
  "orig_nbformat": 4
 },
 "nbformat": 4,
 "nbformat_minor": 2
}
