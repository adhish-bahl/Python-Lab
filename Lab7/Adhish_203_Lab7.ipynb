{
 "cells": [
  {
   "cell_type": "markdown",
   "metadata": {},
   "source": [
    "Adhish Bahl\n",
    "\n",
    "2347203\n",
    "\n",
    "Python Lab7"
   ]
  },
  {
   "cell_type": "markdown",
   "metadata": {},
   "source": [
    "#### Q1) Create two 3×3 matrices using the random function in Numpy and perform the following operations. \n",
    "- Product (prod) \n",
    "- Multiplication (multiply) \n",
    "- Dot Product (dot) "
   ]
  },
  {
   "cell_type": "code",
   "execution_count": 25,
   "metadata": {},
   "outputs": [
    {
     "name": "stdout",
     "output_type": "stream",
     "text": [
      "Matrix 1:\n",
      "[[0.521 0.203 0.287]\n",
      " [0.465 0.874 0.37 ]\n",
      " [0.893 0.599 0.537]]\n",
      "\n",
      "Matrix 2:\n",
      "[[0.196 0.796 0.032]\n",
      " [0.196 0.198 0.383]\n",
      " [0.681 0.747 0.891]]\n",
      "============================================================================\n",
      "\n",
      "\n",
      "Product (Element-wise multiplication):\n",
      "[[0.102116 0.161588 0.009184]\n",
      " [0.09114  0.173052 0.14171 ]\n",
      " [0.608133 0.447453 0.478467]]\n",
      "\n",
      "\n",
      "Matrix Multiplication (Dot Product):\n",
      "[[0.337351 0.669299 0.350138]\n",
      " [0.514414 0.819582 0.679292]\n",
      " [0.658129 1.230569 0.73646 ]]\n",
      "\n",
      "\n",
      "Dot Product (Flattened): 2.2128\n"
     ]
    }
   ],
   "source": [
    "import numpy as np\n",
    "\n",
    "matrix1 = np.random.rand(3, 3).round(3)\n",
    "matrix2 = np.random.rand(3, 3).round(3)\n",
    "\n",
    "productResult = np.multiply(matrix1, matrix2)\n",
    "multiplyResult = np.dot(matrix1, matrix2)\n",
    "dotResult = np.dot(matrix1.flatten(), matrix2.flatten())\n",
    "\n",
    "print(\"Matrix 1:\")\n",
    "print(matrix1)\n",
    "print(\"\\nMatrix 2:\")\n",
    "print(matrix2)\n",
    "print(\"============================================================================\")\n",
    "print(\"\\n\\nProduct (Element-wise multiplication):\")\n",
    "print(productResult)\n",
    "print(\"\\n\\nMatrix Multiplication (Dot Product):\")\n",
    "print(multiplyResult)\n",
    "print(\"\\n\\nDot Product (Flattened):\", round(dotResult, 4))\n"
   ]
  },
  {
   "cell_type": "markdown",
   "metadata": {},
   "source": [
    "#### Q2) Perform the following set operations using the Numpy functions.\n",
    "- Union\n",
    "- Intersection\n",
    "- Set difference\n",
    "- XOR"
   ]
  },
  {
   "cell_type": "code",
   "execution_count": 26,
   "metadata": {},
   "outputs": [
    {
     "name": "stdout",
     "output_type": "stream",
     "text": [
      "Array 1: [1 2 3 4 5]\n",
      "Array 2: [3 4 5 6 7]\n",
      "\n",
      "Union: [1 2 3 4 5 6 7]\n",
      "Intersection: [3 4 5]\n",
      "Set Difference (array1 - array2): [1 2]\n",
      "XOR (Exclusive OR): [1 2 6 7]\n"
     ]
    }
   ],
   "source": [
    "import numpy as np\n",
    "\n",
    "array1 = np.array([1, 2, 3, 4, 5])\n",
    "array2 = np.array([3, 4, 5, 6, 7])\n",
    "\n",
    "unionResult = np.union1d(array1, array2)\n",
    "intersectionResult = np.intersect1d(array1, array2)\n",
    "differenceResult = np.setdiff1d(array1, array2)\n",
    "xorResult = np.setxor1d(array1, array2)\n",
    "\n",
    "print(\"Array 1: \", array1)\n",
    "print(\"Array 2: \", array2)\n",
    "\n",
    "print(\"\\nUnion: \", unionResult)\n",
    "print(\"Intersection: \", intersectionResult)\n",
    "print(\"Set Difference: \", differenceResult)\n",
    "print(\"XOR: \", xorResult)"
   ]
  },
  {
   "cell_type": "markdown",
   "metadata": {},
   "source": [
    "#### Q3) Create a 1D array using Random function and perform the following operations.\n",
    "- Cumulative sum\n",
    "- Cumulative Product\n",
    "- Discrete difference (with n=3)\n",
    "- Find the unique elements from the array"
   ]
  },
  {
   "cell_type": "code",
   "execution_count": 27,
   "metadata": {},
   "outputs": [
    {
     "name": "stdout",
     "output_type": "stream",
     "text": [
      "Original Array: [ 7  7  4  2  2 10  7  4  6  9]\n",
      "Cumulative Sum: [ 7 14 18 20 22 32 39 43 49 58]\n",
      "Cumulative Product: [       7       49      196      392      784     7840    54880   219520\n",
      "  1317120 11854080]\n",
      "Discrete Difference (n=3): [  4   1   6 -19  11   5  -4]\n",
      "Unique Elements: [ 2  4  6  7  9 10]\n"
     ]
    }
   ],
   "source": [
    "import numpy as np\n",
    "\n",
    "array = np.random.randint(1, 11, 10)\n",
    "\n",
    "cumulativeSum = np.cumsum(array)\n",
    "cumulativeProduct = np.cumprod(array)\n",
    "discreteDifference = np.diff(array, n=3)\n",
    "uniqueElements = np.unique(array)\n",
    "\n",
    "print(\"Original Array: \", array)\n",
    "print(\"Cumulative Sum: \", cumulativeSum)\n",
    "print(\"Cumulative Product: \", cumulativeProduct)\n",
    "print(\"Discrete Difference: \", discreteDifference)\n",
    "print(\"Unique Elements: \", uniqueElements)"
   ]
  },
  {
   "cell_type": "markdown",
   "metadata": {},
   "source": [
    "#### Q4) Create two 1D array and perform the Addition using zip(), add() and user defined function (frompyfunc())"
   ]
  },
  {
   "cell_type": "code",
   "execution_count": 28,
   "metadata": {},
   "outputs": [
    {
     "name": "stdout",
     "output_type": "stream",
     "text": [
      "Array 1: [1 2 3 4 5]\n",
      "Array 2: [5 4 3 2 1]\n",
      "Addition using zip: [6, 6, 6, 6, 6]\n",
      "Addition using np.add(): [6 6 6 6 6]\n",
      "Addition using custom function: [6 6 6 6 6]\n"
     ]
    }
   ],
   "source": [
    "import numpy as np\n",
    "\n",
    "array1 = np.array([1, 2, 3, 4, 5])\n",
    "array2 = np.array([5, 4, 3, 2, 1])\n",
    "\n",
    "additionZip = [a1 + a2 for a1, a2 in zip(array1, array2)]\n",
    "\n",
    "additionAdd = np.add(array1, array2)\n",
    "\n",
    "def add(x, y):\n",
    "    return x + y\n",
    "\n",
    "additionCustom = np.frompyfunc(add, 2, 1)(array1, array2)\n",
    "\n",
    "print(\"Array 1:\", array1)\n",
    "print(\"Array 2:\", array2)\n",
    "\n",
    "print(\"Addition using zip:\", additionZip)\n",
    "print(\"Addition using np.add():\", additionAdd)\n",
    "print(\"Addition using custom function:\", additionCustom)"
   ]
  },
  {
   "cell_type": "markdown",
   "metadata": {},
   "source": [
    "#### Q5) Find the LCM (Least Common Multiple) and GCD (Greatest Common Divisor) of an array of elements using reduce()."
   ]
  },
  {
   "cell_type": "code",
   "execution_count": 29,
   "metadata": {},
   "outputs": [
    {
     "name": "stdout",
     "output_type": "stream",
     "text": [
      "Array:  [12 18 24 36]\n",
      "LCM of the array:  72\n",
      "GCD of the array:  6\n"
     ]
    }
   ],
   "source": [
    "import numpy as np\n",
    "from functools import reduce\n",
    "import math\n",
    "\n",
    "array = np.array([12, 18, 24, 36])\n",
    "\n",
    "def lcm(x, y):\n",
    "    return x * y // math.gcd(x, y)\n",
    "\n",
    "lcmResult = reduce(lcm, array)\n",
    "\n",
    "gcdResult = reduce(math.gcd, array)\n",
    "\n",
    "print(\"Array: \", array)\n",
    "print(\"LCM of the array: \", lcmResult)\n",
    "print(\"GCD of the array: \", gcdResult)"
   ]
  }
 ],
 "metadata": {
  "kernelspec": {
   "display_name": "Python 3",
   "language": "python",
   "name": "python3"
  },
  "language_info": {
   "codemirror_mode": {
    "name": "ipython",
    "version": 3
   },
   "file_extension": ".py",
   "mimetype": "text/x-python",
   "name": "python",
   "nbconvert_exporter": "python",
   "pygments_lexer": "ipython3",
   "version": "3.11.5"
  },
  "orig_nbformat": 4
 },
 "nbformat": 4,
 "nbformat_minor": 2
}
