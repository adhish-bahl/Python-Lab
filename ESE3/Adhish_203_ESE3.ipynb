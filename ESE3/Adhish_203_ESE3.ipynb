{
 "cells": [
  {
   "cell_type": "markdown",
   "metadata": {},
   "source": [
    "Adhish Bahl\n",
    "\n",
    "2347203\n",
    "\n",
    "1MCA B\n",
    "\n",
    "Python Lab Exam\n",
    "\n",
    "ESE Component 3"
   ]
  },
  {
   "cell_type": "markdown",
   "metadata": {},
   "source": [
    "#### **Importing Libraries**"
   ]
  },
  {
   "cell_type": "code",
   "execution_count": 1,
   "metadata": {},
   "outputs": [],
   "source": [
    "import numpy as np\n",
    "import matplotlib.pyplot as plt\n",
    "import pandas as pd"
   ]
  },
  {
   "cell_type": "markdown",
   "metadata": {},
   "source": [
    "#### **Q1) Importing Dataset**"
   ]
  },
  {
   "cell_type": "code",
   "execution_count": 2,
   "metadata": {},
   "outputs": [],
   "source": [
    "df = pd.read_csv(\"./UScereal.csv\")"
   ]
  },
  {
   "cell_type": "markdown",
   "metadata": {},
   "source": [
    "#### **Q2) Finding Summary of the Dataset**"
   ]
  },
  {
   "cell_type": "code",
   "execution_count": 3,
   "metadata": {},
   "outputs": [
    {
     "name": "stdout",
     "output_type": "stream",
     "text": [
      "<class 'pandas.core.frame.DataFrame'>\n",
      "RangeIndex: 65 entries, 0 to 64\n",
      "Data columns (total 12 columns):\n",
      " #   Column     Non-Null Count  Dtype  \n",
      "---  ------     --------------  -----  \n",
      " 0   Name       65 non-null     object \n",
      " 1   mfr        65 non-null     object \n",
      " 2   calories   65 non-null     float64\n",
      " 3   protein    65 non-null     float64\n",
      " 4   fat        65 non-null     float64\n",
      " 5   sodium     65 non-null     float64\n",
      " 6   fibre      65 non-null     float64\n",
      " 7   carbo      65 non-null     float64\n",
      " 8   sugars     65 non-null     float64\n",
      " 9   shelf      65 non-null     int64  \n",
      " 10  potassium  65 non-null     float64\n",
      " 11  vitamins   65 non-null     object \n",
      "dtypes: float64(8), int64(1), object(3)\n",
      "memory usage: 6.2+ KB\n"
     ]
    }
   ],
   "source": [
    "df.info()"
   ]
  },
  {
   "cell_type": "markdown",
   "metadata": {},
   "source": [
    "**Observation:** From the above report generated using info() function, we can observe that there are 65 rows in the dataset and 12 coulumns. Datatype of each column is given in the report. Like, Datatype of \"name\" is \"object\", \"calaries\" is \"float\" and \"shelf\" is \"int\" and so on for all the columns.\n",
    "\n",
    "We can also see that there are no missing data i the dataaset because it clearly says for all the columns that there are \"65 non-null\" values. This concludes that there are no missing data in the dataset since there are only 65 rows in it."
   ]
  },
  {
   "cell_type": "markdown",
   "metadata": {},
   "source": [
    "#### **Head and Tail of the dataset**"
   ]
  },
  {
   "cell_type": "code",
   "execution_count": 4,
   "metadata": {},
   "outputs": [
    {
     "data": {
      "text/html": [
       "<div>\n",
       "<style scoped>\n",
       "    .dataframe tbody tr th:only-of-type {\n",
       "        vertical-align: middle;\n",
       "    }\n",
       "\n",
       "    .dataframe tbody tr th {\n",
       "        vertical-align: top;\n",
       "    }\n",
       "\n",
       "    .dataframe thead th {\n",
       "        text-align: right;\n",
       "    }\n",
       "</style>\n",
       "<table border=\"1\" class=\"dataframe\">\n",
       "  <thead>\n",
       "    <tr style=\"text-align: right;\">\n",
       "      <th></th>\n",
       "      <th>Name</th>\n",
       "      <th>mfr</th>\n",
       "      <th>calories</th>\n",
       "      <th>protein</th>\n",
       "      <th>fat</th>\n",
       "      <th>sodium</th>\n",
       "      <th>fibre</th>\n",
       "      <th>carbo</th>\n",
       "      <th>sugars</th>\n",
       "      <th>shelf</th>\n",
       "      <th>potassium</th>\n",
       "      <th>vitamins</th>\n",
       "    </tr>\n",
       "  </thead>\n",
       "  <tbody>\n",
       "    <tr>\n",
       "      <th>0</th>\n",
       "      <td>100% Bran</td>\n",
       "      <td>N</td>\n",
       "      <td>212.12</td>\n",
       "      <td>12.12</td>\n",
       "      <td>3.03</td>\n",
       "      <td>393.94</td>\n",
       "      <td>30.30</td>\n",
       "      <td>15.15</td>\n",
       "      <td>18.18</td>\n",
       "      <td>3</td>\n",
       "      <td>848.48</td>\n",
       "      <td>enriched</td>\n",
       "    </tr>\n",
       "    <tr>\n",
       "      <th>1</th>\n",
       "      <td>All-Bran</td>\n",
       "      <td>K</td>\n",
       "      <td>212.12</td>\n",
       "      <td>12.12</td>\n",
       "      <td>3.03</td>\n",
       "      <td>787.88</td>\n",
       "      <td>27.27</td>\n",
       "      <td>21.21</td>\n",
       "      <td>15.15</td>\n",
       "      <td>3</td>\n",
       "      <td>969.70</td>\n",
       "      <td>enriched</td>\n",
       "    </tr>\n",
       "    <tr>\n",
       "      <th>2</th>\n",
       "      <td>All-Bran with Extra Fiber</td>\n",
       "      <td>K</td>\n",
       "      <td>100.00</td>\n",
       "      <td>8.00</td>\n",
       "      <td>0.00</td>\n",
       "      <td>280.00</td>\n",
       "      <td>28.00</td>\n",
       "      <td>16.00</td>\n",
       "      <td>0.00</td>\n",
       "      <td>3</td>\n",
       "      <td>660.00</td>\n",
       "      <td>enriched</td>\n",
       "    </tr>\n",
       "    <tr>\n",
       "      <th>3</th>\n",
       "      <td>Apple Cinnamon Cheerios</td>\n",
       "      <td>G</td>\n",
       "      <td>146.67</td>\n",
       "      <td>2.67</td>\n",
       "      <td>2.67</td>\n",
       "      <td>240.00</td>\n",
       "      <td>2.00</td>\n",
       "      <td>14.00</td>\n",
       "      <td>13.33</td>\n",
       "      <td>1</td>\n",
       "      <td>93.33</td>\n",
       "      <td>enriched</td>\n",
       "    </tr>\n",
       "    <tr>\n",
       "      <th>4</th>\n",
       "      <td>Apple Jacks</td>\n",
       "      <td>K</td>\n",
       "      <td>110.00</td>\n",
       "      <td>2.00</td>\n",
       "      <td>0.00</td>\n",
       "      <td>125.00</td>\n",
       "      <td>1.00</td>\n",
       "      <td>11.00</td>\n",
       "      <td>14.00</td>\n",
       "      <td>2</td>\n",
       "      <td>30.00</td>\n",
       "      <td>enriched</td>\n",
       "    </tr>\n",
       "    <tr>\n",
       "      <th>5</th>\n",
       "      <td>Basic 4</td>\n",
       "      <td>G</td>\n",
       "      <td>173.33</td>\n",
       "      <td>4.00</td>\n",
       "      <td>2.67</td>\n",
       "      <td>280.00</td>\n",
       "      <td>2.67</td>\n",
       "      <td>24.00</td>\n",
       "      <td>10.67</td>\n",
       "      <td>3</td>\n",
       "      <td>133.33</td>\n",
       "      <td>enriched</td>\n",
       "    </tr>\n",
       "    <tr>\n",
       "      <th>6</th>\n",
       "      <td>Bran Chex</td>\n",
       "      <td>R</td>\n",
       "      <td>134.33</td>\n",
       "      <td>2.99</td>\n",
       "      <td>1.49</td>\n",
       "      <td>298.51</td>\n",
       "      <td>5.97</td>\n",
       "      <td>22.39</td>\n",
       "      <td>8.96</td>\n",
       "      <td>1</td>\n",
       "      <td>186.57</td>\n",
       "      <td>enriched</td>\n",
       "    </tr>\n",
       "    <tr>\n",
       "      <th>7</th>\n",
       "      <td>Bran Flakes</td>\n",
       "      <td>P</td>\n",
       "      <td>134.33</td>\n",
       "      <td>4.48</td>\n",
       "      <td>0.00</td>\n",
       "      <td>313.43</td>\n",
       "      <td>7.46</td>\n",
       "      <td>19.40</td>\n",
       "      <td>7.46</td>\n",
       "      <td>3</td>\n",
       "      <td>283.58</td>\n",
       "      <td>enriched</td>\n",
       "    </tr>\n",
       "    <tr>\n",
       "      <th>8</th>\n",
       "      <td>Cap'n'Crunch</td>\n",
       "      <td>Q</td>\n",
       "      <td>160.00</td>\n",
       "      <td>1.33</td>\n",
       "      <td>2.67</td>\n",
       "      <td>293.33</td>\n",
       "      <td>0.00</td>\n",
       "      <td>16.00</td>\n",
       "      <td>16.00</td>\n",
       "      <td>2</td>\n",
       "      <td>46.67</td>\n",
       "      <td>enriched</td>\n",
       "    </tr>\n",
       "    <tr>\n",
       "      <th>9</th>\n",
       "      <td>Cheerios</td>\n",
       "      <td>G</td>\n",
       "      <td>88.00</td>\n",
       "      <td>4.80</td>\n",
       "      <td>1.60</td>\n",
       "      <td>232.00</td>\n",
       "      <td>1.60</td>\n",
       "      <td>13.60</td>\n",
       "      <td>0.80</td>\n",
       "      <td>1</td>\n",
       "      <td>84.00</td>\n",
       "      <td>enriched</td>\n",
       "    </tr>\n",
       "  </tbody>\n",
       "</table>\n",
       "</div>"
      ],
      "text/plain": [
       "                        Name mfr  calories  protein   fat  sodium  fibre  \\\n",
       "0                  100% Bran   N    212.12    12.12  3.03  393.94  30.30   \n",
       "1                   All-Bran   K    212.12    12.12  3.03  787.88  27.27   \n",
       "2  All-Bran with Extra Fiber   K    100.00     8.00  0.00  280.00  28.00   \n",
       "3    Apple Cinnamon Cheerios   G    146.67     2.67  2.67  240.00   2.00   \n",
       "4                Apple Jacks   K    110.00     2.00  0.00  125.00   1.00   \n",
       "5                    Basic 4   G    173.33     4.00  2.67  280.00   2.67   \n",
       "6                  Bran Chex   R    134.33     2.99  1.49  298.51   5.97   \n",
       "7                Bran Flakes   P    134.33     4.48  0.00  313.43   7.46   \n",
       "8               Cap'n'Crunch   Q    160.00     1.33  2.67  293.33   0.00   \n",
       "9                   Cheerios   G     88.00     4.80  1.60  232.00   1.60   \n",
       "\n",
       "   carbo  sugars  shelf  potassium  vitamins  \n",
       "0  15.15   18.18      3     848.48  enriched  \n",
       "1  21.21   15.15      3     969.70  enriched  \n",
       "2  16.00    0.00      3     660.00  enriched  \n",
       "3  14.00   13.33      1      93.33  enriched  \n",
       "4  11.00   14.00      2      30.00  enriched  \n",
       "5  24.00   10.67      3     133.33  enriched  \n",
       "6  22.39    8.96      1     186.57  enriched  \n",
       "7  19.40    7.46      3     283.58  enriched  \n",
       "8  16.00   16.00      2      46.67  enriched  \n",
       "9  13.60    0.80      1      84.00  enriched  "
      ]
     },
     "execution_count": 4,
     "metadata": {},
     "output_type": "execute_result"
    }
   ],
   "source": [
    "df.head(10)"
   ]
  },
  {
   "cell_type": "code",
   "execution_count": 5,
   "metadata": {},
   "outputs": [
    {
     "data": {
      "text/html": [
       "<div>\n",
       "<style scoped>\n",
       "    .dataframe tbody tr th:only-of-type {\n",
       "        vertical-align: middle;\n",
       "    }\n",
       "\n",
       "    .dataframe tbody tr th {\n",
       "        vertical-align: top;\n",
       "    }\n",
       "\n",
       "    .dataframe thead th {\n",
       "        text-align: right;\n",
       "    }\n",
       "</style>\n",
       "<table border=\"1\" class=\"dataframe\">\n",
       "  <thead>\n",
       "    <tr style=\"text-align: right;\">\n",
       "      <th></th>\n",
       "      <th>Name</th>\n",
       "      <th>mfr</th>\n",
       "      <th>calories</th>\n",
       "      <th>protein</th>\n",
       "      <th>fat</th>\n",
       "      <th>sodium</th>\n",
       "      <th>fibre</th>\n",
       "      <th>carbo</th>\n",
       "      <th>sugars</th>\n",
       "      <th>shelf</th>\n",
       "      <th>potassium</th>\n",
       "      <th>vitamins</th>\n",
       "    </tr>\n",
       "  </thead>\n",
       "  <tbody>\n",
       "    <tr>\n",
       "      <th>55</th>\n",
       "      <td>Smacks</td>\n",
       "      <td>K</td>\n",
       "      <td>146.67</td>\n",
       "      <td>2.67</td>\n",
       "      <td>1.33</td>\n",
       "      <td>93.33</td>\n",
       "      <td>1.33</td>\n",
       "      <td>12.00</td>\n",
       "      <td>20.00</td>\n",
       "      <td>2</td>\n",
       "      <td>53.33</td>\n",
       "      <td>enriched</td>\n",
       "    </tr>\n",
       "    <tr>\n",
       "      <th>56</th>\n",
       "      <td>Special K</td>\n",
       "      <td>K</td>\n",
       "      <td>110.00</td>\n",
       "      <td>6.00</td>\n",
       "      <td>0.00</td>\n",
       "      <td>230.00</td>\n",
       "      <td>1.00</td>\n",
       "      <td>16.00</td>\n",
       "      <td>3.00</td>\n",
       "      <td>1</td>\n",
       "      <td>55.00</td>\n",
       "      <td>enriched</td>\n",
       "    </tr>\n",
       "    <tr>\n",
       "      <th>57</th>\n",
       "      <td>Total Corn Flakes</td>\n",
       "      <td>G</td>\n",
       "      <td>110.00</td>\n",
       "      <td>2.00</td>\n",
       "      <td>1.00</td>\n",
       "      <td>200.00</td>\n",
       "      <td>0.00</td>\n",
       "      <td>21.00</td>\n",
       "      <td>3.00</td>\n",
       "      <td>3</td>\n",
       "      <td>35.00</td>\n",
       "      <td>100%</td>\n",
       "    </tr>\n",
       "    <tr>\n",
       "      <th>58</th>\n",
       "      <td>Total Raisin Bran</td>\n",
       "      <td>G</td>\n",
       "      <td>140.00</td>\n",
       "      <td>3.00</td>\n",
       "      <td>1.00</td>\n",
       "      <td>190.00</td>\n",
       "      <td>4.00</td>\n",
       "      <td>15.00</td>\n",
       "      <td>14.00</td>\n",
       "      <td>3</td>\n",
       "      <td>230.00</td>\n",
       "      <td>100%</td>\n",
       "    </tr>\n",
       "    <tr>\n",
       "      <th>59</th>\n",
       "      <td>Total Whole Grain</td>\n",
       "      <td>G</td>\n",
       "      <td>100.00</td>\n",
       "      <td>3.00</td>\n",
       "      <td>1.00</td>\n",
       "      <td>200.00</td>\n",
       "      <td>3.00</td>\n",
       "      <td>16.00</td>\n",
       "      <td>3.00</td>\n",
       "      <td>3</td>\n",
       "      <td>110.00</td>\n",
       "      <td>100%</td>\n",
       "    </tr>\n",
       "    <tr>\n",
       "      <th>60</th>\n",
       "      <td>Triples</td>\n",
       "      <td>G</td>\n",
       "      <td>146.67</td>\n",
       "      <td>2.67</td>\n",
       "      <td>1.33</td>\n",
       "      <td>333.33</td>\n",
       "      <td>0.00</td>\n",
       "      <td>28.00</td>\n",
       "      <td>4.00</td>\n",
       "      <td>3</td>\n",
       "      <td>80.00</td>\n",
       "      <td>enriched</td>\n",
       "    </tr>\n",
       "    <tr>\n",
       "      <th>61</th>\n",
       "      <td>Trix</td>\n",
       "      <td>G</td>\n",
       "      <td>110.00</td>\n",
       "      <td>1.00</td>\n",
       "      <td>1.00</td>\n",
       "      <td>140.00</td>\n",
       "      <td>0.00</td>\n",
       "      <td>13.00</td>\n",
       "      <td>12.00</td>\n",
       "      <td>2</td>\n",
       "      <td>25.00</td>\n",
       "      <td>enriched</td>\n",
       "    </tr>\n",
       "    <tr>\n",
       "      <th>62</th>\n",
       "      <td>Wheat Chex</td>\n",
       "      <td>R</td>\n",
       "      <td>149.25</td>\n",
       "      <td>4.48</td>\n",
       "      <td>1.49</td>\n",
       "      <td>343.28</td>\n",
       "      <td>4.48</td>\n",
       "      <td>25.37</td>\n",
       "      <td>4.48</td>\n",
       "      <td>1</td>\n",
       "      <td>171.64</td>\n",
       "      <td>enriched</td>\n",
       "    </tr>\n",
       "    <tr>\n",
       "      <th>63</th>\n",
       "      <td>Wheaties</td>\n",
       "      <td>G</td>\n",
       "      <td>100.00</td>\n",
       "      <td>3.00</td>\n",
       "      <td>1.00</td>\n",
       "      <td>200.00</td>\n",
       "      <td>3.00</td>\n",
       "      <td>17.00</td>\n",
       "      <td>3.00</td>\n",
       "      <td>1</td>\n",
       "      <td>110.00</td>\n",
       "      <td>enriched</td>\n",
       "    </tr>\n",
       "    <tr>\n",
       "      <th>64</th>\n",
       "      <td>Wheaties Honey Gold</td>\n",
       "      <td>G</td>\n",
       "      <td>146.67</td>\n",
       "      <td>2.67</td>\n",
       "      <td>1.33</td>\n",
       "      <td>266.67</td>\n",
       "      <td>1.33</td>\n",
       "      <td>21.33</td>\n",
       "      <td>10.67</td>\n",
       "      <td>1</td>\n",
       "      <td>80.00</td>\n",
       "      <td>enriched</td>\n",
       "    </tr>\n",
       "  </tbody>\n",
       "</table>\n",
       "</div>"
      ],
      "text/plain": [
       "                   Name mfr  calories  protein   fat  sodium  fibre  carbo  \\\n",
       "55               Smacks   K    146.67     2.67  1.33   93.33   1.33  12.00   \n",
       "56            Special K   K    110.00     6.00  0.00  230.00   1.00  16.00   \n",
       "57    Total Corn Flakes   G    110.00     2.00  1.00  200.00   0.00  21.00   \n",
       "58    Total Raisin Bran   G    140.00     3.00  1.00  190.00   4.00  15.00   \n",
       "59    Total Whole Grain   G    100.00     3.00  1.00  200.00   3.00  16.00   \n",
       "60              Triples   G    146.67     2.67  1.33  333.33   0.00  28.00   \n",
       "61                 Trix   G    110.00     1.00  1.00  140.00   0.00  13.00   \n",
       "62           Wheat Chex   R    149.25     4.48  1.49  343.28   4.48  25.37   \n",
       "63             Wheaties   G    100.00     3.00  1.00  200.00   3.00  17.00   \n",
       "64  Wheaties Honey Gold   G    146.67     2.67  1.33  266.67   1.33  21.33   \n",
       "\n",
       "    sugars  shelf  potassium  vitamins  \n",
       "55   20.00      2      53.33  enriched  \n",
       "56    3.00      1      55.00  enriched  \n",
       "57    3.00      3      35.00      100%  \n",
       "58   14.00      3     230.00      100%  \n",
       "59    3.00      3     110.00      100%  \n",
       "60    4.00      3      80.00  enriched  \n",
       "61   12.00      2      25.00  enriched  \n",
       "62    4.48      1     171.64  enriched  \n",
       "63    3.00      1     110.00  enriched  \n",
       "64   10.67      1      80.00  enriched  "
      ]
     },
     "execution_count": 5,
     "metadata": {},
     "output_type": "execute_result"
    }
   ],
   "source": [
    "df.tail(10)"
   ]
  },
  {
   "cell_type": "markdown",
   "metadata": {},
   "source": [
    "#### **Q3) Average protein value of each manufacturer**"
   ]
  },
  {
   "cell_type": "code",
   "execution_count": 7,
   "metadata": {},
   "outputs": [
    {
     "data": {
      "text/plain": [
       "mfr\n",
       "G    2.885000\n",
       "K    3.919048\n",
       "N    7.026667\n",
       "P    4.698889\n",
       "Q    3.460000\n",
       "R    2.604000\n",
       "Name: protein, dtype: float64"
      ]
     },
     "execution_count": 7,
     "metadata": {},
     "output_type": "execute_result"
    }
   ],
   "source": [
    "df.groupby('mfr')['protein'].mean()"
   ]
  },
  {
   "cell_type": "markdown",
   "metadata": {},
   "source": [
    "**Observation:** Here all the Manufactureres are listed with their mean/average value of protein in their products. groupby() function is used to group the Manufactureres in the dataset and then that group is passed to find their mean/average value by the function mean()."
   ]
  },
  {
   "cell_type": "markdown",
   "metadata": {},
   "source": [
    "#### **Q4) Name of the Cereal with high sugar from Manufacturer G.**"
   ]
  },
  {
   "cell_type": "code",
   "execution_count": 14,
   "metadata": {},
   "outputs": [
    {
     "name": "stdout",
     "output_type": "stream",
     "text": [
      "                       Name mfr  calories  protein   fat  sodium  fibre  \\\n",
      "43     Oatmeal Raisin Crisp   G    260.00     6.00  4.00  340.00   3.00   \n",
      "49          Raisin Nut Bran   G    200.00     6.00  4.00  280.00   5.00   \n",
      "58        Total Raisin Bran   G    140.00     3.00  1.00  190.00   4.00   \n",
      "11                 Clusters   G    220.00     6.00  4.00  280.00   4.00   \n",
      "3   Apple Cinnamon Cheerios   G    146.67     2.67  2.67  240.00   2.00   \n",
      "19   Crispy Wheat & Raisins   G    133.33     2.67  1.33  186.67   2.67   \n",
      "33       Honey Nut Cheerios   G    146.67     4.00  1.33  333.33   2.00   \n",
      "12              Cocoa Puffs   G    110.00     1.00  1.00  180.00   0.00   \n",
      "16            Count Chocula   G    110.00     1.00  1.00  180.00   0.00   \n",
      "61                     Trix   G    110.00     1.00  1.00  140.00   0.00   \n",
      "38             Lucky Charms   G    110.00     2.00  1.00  180.00   0.00   \n",
      "28           Golden Grahams   G    146.67     1.33  1.33  373.33   0.00   \n",
      "10    Cinnamon Toast Crunch   G    160.00     1.33  4.00  280.00   0.00   \n",
      "5                   Basic 4   G    173.33     4.00  2.67  280.00   2.67   \n",
      "64      Wheaties Honey Gold   G    146.67     2.67  1.33  266.67   1.33   \n",
      "40     Multi-Grain Cheerios   G    100.00     2.00  1.00  220.00   2.00   \n",
      "60                  Triples   G    146.67     2.67  1.33  333.33   0.00   \n",
      "57        Total Corn Flakes   G    110.00     2.00  1.00  200.00   0.00   \n",
      "59        Total Whole Grain   G    100.00     3.00  1.00  200.00   3.00   \n",
      "63                 Wheaties   G    100.00     3.00  1.00  200.00   3.00   \n",
      "36                      Kix   G     73.33     1.33  0.67  173.33   0.00   \n",
      "9                  Cheerios   G     88.00     4.80  1.60  232.00   1.60   \n",
      "\n",
      "    carbo  sugars  shelf  potassium  vitamins  \n",
      "43  27.00   20.00      3     240.00  enriched  \n",
      "49  21.00   16.00      3     280.00  enriched  \n",
      "58  15.00   14.00      3     230.00      100%  \n",
      "11  26.00   14.00      3     210.00  enriched  \n",
      "3   14.00   13.33      1      93.33  enriched  \n",
      "19  14.67   13.33      3     160.00  enriched  \n",
      "33  15.33   13.33      1     120.00  enriched  \n",
      "12  12.00   13.00      2      55.00  enriched  \n",
      "16  12.00   13.00      2      65.00  enriched  \n",
      "61  13.00   12.00      2      25.00  enriched  \n",
      "38  12.00   12.00      2      55.00  enriched  \n",
      "28  20.00   12.00      2      60.00  enriched  \n",
      "10  17.33   12.00      2      60.00  enriched  \n",
      "5   24.00   10.67      3     133.33  enriched  \n",
      "64  21.33   10.67      1      80.00  enriched  \n",
      "40  15.00    6.00      1      90.00  enriched  \n",
      "60  28.00    4.00      3      80.00  enriched  \n",
      "57  21.00    3.00      3      35.00      100%  \n",
      "59  16.00    3.00      3     110.00      100%  \n",
      "63  17.00    3.00      1     110.00  enriched  \n",
      "36  14.00    2.00      2      26.67  enriched  \n",
      "9   13.60    0.80      1      84.00  enriched  \n"
     ]
    }
   ],
   "source": [
    "df2 = df[df[\"mfr\"] == \"G\"]\n",
    "\n",
    "df2 = df2.sort_values(by=[\"sugars\"], ascending=False)\n",
    "\n",
    "print(df2)"
   ]
  },
  {
   "cell_type": "markdown",
   "metadata": {},
   "source": [
    "**Observation:** In the above list we can see that all  the products from the manufacturer \"G\" are listed with descending order of their sugar value. We can see that the product with the highest sugar value is \"Oatmeal Raisin Crisp\" with sugar value being \"20\". The product with the lowest sugar value is \"Cheerios\" with sugar value being \"0.80\"."
   ]
  },
  {
   "cell_type": "markdown",
   "metadata": {},
   "source": [
    "#### **Generate any three different suitable plots using matplotlib library for the following. Use appropriate formatting like title, legend, x-value, y-value ect.**\n"
   ]
  },
  {
   "cell_type": "markdown",
   "metadata": {},
   "source": [
    "##### **a)Using only shelf or vitamins**\n"
   ]
  },
  {
   "cell_type": "code",
   "execution_count": 29,
   "metadata": {},
   "outputs": [
    {
     "data": {
      "image/png": "[encoded data removed]",
      "text/plain": [
       "<Figure size 3000x480 with 1 Axes>"
      ]
     },
     "metadata": {},
     "output_type": "display_data"
    }
   ],
   "source": [
    "df3 = df.head(10)\n",
    "plt.figure().set_figwidth(30)\n",
    "plt.plot(df2[\"Name\"], df2[\"vitamins\"], label = \"vitamins\")\n",
    "plt.xlabel('Name')\n",
    "plt.ylabel('Vitamins')\n",
    "plt.title('Name vs Vitamins', fontsize = 20)\n",
    "plt.legend()\n",
    "plt.show()"
   ]
  },
  {
   "cell_type": "markdown",
   "metadata": {},
   "source": [
    "**Observation:** We can observe from the above line graph to see the vitamins value for the fisrt 10 recordds in the dataset with their names."
   ]
  },
  {
   "cell_type": "markdown",
   "metadata": {},
   "source": [
    "##### **b) Using mfr and fiber**"
   ]
  },
  {
   "cell_type": "code",
   "execution_count": 76,
   "metadata": {},
   "outputs": [
    {
     "data": {
      "image/png": "[encoded data removed]",
      "text/plain": [
       "<Figure size 1500x480 with 1 Axes>"
      ]
     },
     "metadata": {},
     "output_type": "display_data"
    }
   ],
   "source": [
    "df3 = df.groupby('mfr')['fibre'].mean()\n",
    "\n",
    "mfrDict = {\n",
    "    \"mfr\": [\"G\",\"K\", \"N\", \"P\", \"Q\", \"R\"]\n",
    "}\n",
    "x =  pd.DataFrame(mfrDict)\n",
    "y =  pd.DataFrame(df.groupby('mfr')['fibre'].mean())\n",
    "\n",
    "plt.figure().set_figwidth(15)\n",
    "plt.bar(x['mfr'], y['fibre'])\n",
    "plt.xlabel('Manufacturer')\n",
    "plt.ylabel('Average Fiber')\n",
    "plt.title('Average FIber per manufacturer', fontsize = 20)\n",
    "plt.show()\n"
   ]
  },
  {
   "cell_type": "markdown",
   "metadata": {},
   "source": [
    "**Observation:** We can observe from the above bar graph that the manufacturer \"N\" has the height average \"fibre\" value for the products, while Q being the lowest. From the above bar graph we can observe the average \"fibre\" value for the differnt \"Manufacturer\"."
   ]
  },
  {
   "cell_type": "markdown",
   "metadata": {},
   "source": [
    "##### **c) Using sodium and sugars**"
   ]
  },
  {
   "cell_type": "code",
   "execution_count": 79,
   "metadata": {},
   "outputs": [
    {
     "data": {
      "text/plain": [
       "Text(0, 0.5, 'Sugars')"
      ]
     },
     "execution_count": 79,
     "metadata": {},
     "output_type": "execute_result"
    },
    {
     "data": {
      "image/png": "[encoded data removed]",
      "text/plain": [
       "<Figure size 640x480 with 1 Axes>"
      ]
     },
     "metadata": {},
     "output_type": "display_data"
    }
   ],
   "source": [
    "plt.title ('Correlation between Sodium and Sugar')  \n",
    "plt.scatter (df['sodium'], df['sugars'])  \n",
    "plt.plot (np.unique(df['sodium']), np.poly1d (np.polyfit(df['sodium'], df['sugars'], 1))(np.unique (df['sodium'])), color = 'green')  \n",
    "plt.xlabel ('Sodium')  \n",
    "plt.ylabel ('Sugars')  "
   ]
  },
  {
   "cell_type": "markdown",
   "metadata": {},
   "source": [
    "**Observation:** In the above graph we can see that the correlation between \"Sodium\" and \"Sugars\" in all the products of the dataset is POSITIVE.This means that as anyone value increases abome the two, the second value increases by itself."
   ]
  }
 ],
 "metadata": {
  "kernelspec": {
   "display_name": "Python 3",
   "language": "python",
   "name": "python3"
  },
  "language_info": {
   "codemirror_mode": {
    "name": "ipython",
    "version": 3
   },
   "file_extension": ".py",
   "mimetype": "text/x-python",
   "name": "python",
   "nbconvert_exporter": "python",
   "pygments_lexer": "ipython3",
   "version": "3.11.6"
  }
 },
 "nbformat": 4,
 "nbformat_minor": 2
}
