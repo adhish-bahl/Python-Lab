{
 "cells": [
  {
   "cell_type": "markdown",
   "metadata": {},
   "source": [
    "Adhish Bahl\\\n",
    "2347203\\\n",
    "1MCA B\\\n",
    "Python Lab 2\\\n",
    "Domain: Online retail store for exclusive sneakers."
   ]
  },
  {
   "cell_type": "markdown",
   "metadata": {},
   "source": [
    "### **Part I**"
   ]
  },
  {
   "cell_type": "markdown",
   "metadata": {},
   "source": [
    "#### Create a LIST with your domain attributes, insert the elements using the append (), insert(), extend() and add any iterables (tuples, sets, dictionaries etc.) to the list (Use all the methods ).\n"
   ]
  },
  {
   "cell_type": "code",
   "execution_count": 27,
   "metadata": {},
   "outputs": [
    {
     "name": "stdout",
     "output_type": "stream",
     "text": [
      "Original List:  ['Nike', 'Order Placed', 'Air Jorden', 'Addidas', 'Blue', 'Shipped']\n",
      "\n",
      "List after .append(\"Exclusive\"):  ['Nike', 'Order Placed', 'Air Jorden', 'Addidas', 'Blue', 'Shipped', 'Exclusive']\n",
      "\n",
      "List after .append(tempTouple):  ['Nike', 'Order Placed', 'Air Jorden', 'Addidas', 'Blue', 'Shipped', 'Exclusive', ('USA', 'Superstar', 'High Ankle')]\n",
      "\n",
      "List after .insert(5, \"Sale\"):  ['Nike', 'Order Placed', 'Air Jorden', 'Addidas', 'Blue', 'Sale', 'Shipped', 'Exclusive', ('USA', 'Superstar', 'High Ankle')]\n",
      "\n",
      "List after .insert(tempSet):  ['Nike', 'Order Placed', {'Personalised', 'Your Pair'}, 'Air Jorden', 'Addidas', 'Blue', 'Sale', 'Shipped', 'Exclusive', ('USA', 'Superstar', 'High Ankle')]\n",
      "\n",
      "List after .extend(\"Shoes\"):  ['Nike', 'Order Placed', {'Personalised', 'Your Pair'}, 'Air Jorden', 'Addidas', 'Blue', 'Sale', 'Shipped', 'Exclusive', ('USA', 'Superstar', 'High Ankle'), 'S', 'h', 'o', 'e', 's']\n",
      "\n",
      "List after .extend(tempList):  ['Nike', 'Order Placed', {'Personalised', 'Your Pair'}, 'Air Jorden', 'Addidas', 'Blue', 'Sale', 'Shipped', 'Exclusive', ('USA', 'Superstar', 'High Ankle'), 'S', 'h', 'o', 'e', 's', 'Shoes', 'Black']\n",
      "\n",
      "List after .extend(tempTouple):  ['Nike', 'Order Placed', {'Personalised', 'Your Pair'}, 'Air Jorden', 'Addidas', 'Blue', 'Sale', 'Shipped', 'Exclusive', ('USA', 'Superstar', 'High Ankle'), 'S', 'h', 'o', 'e', 's', 'Shoes', 'Black', 'USA', 'Superstar', 'High Ankle']\n"
     ]
    }
   ],
   "source": [
    "myList = [\"Nike\", \"Order Placed\", \"Air Jorden\", \"Addidas\", \"Blue\", \"Shipped\"]\n",
    "print(\"Original List: \", myList)\n",
    "\n",
    "myList.append(\"Exclusive\")\n",
    "print(\"\\nList after .append(\\\"Exclusive\\\"): \", myList)\n",
    "\n",
    "tempTouple = (\"USA\", \"Superstar\", \"High Ankle\")\n",
    "myList.append(tempTouple) #appending a touple\n",
    "print(\"\\nList after .append(tempTouple): \", myList)\n",
    "\n",
    "myList.insert(5, \"Sale\")\n",
    "print(\"\\nList after .insert(5, \\\"Sale\\\"): \", myList)\n",
    "\n",
    "tempSet = {\"Personalised\", \"Your Pair\"}\n",
    "myList.insert(2, tempSet) #inserting a set\n",
    "print(\"\\nList after .insert(tempSet): \", myList)\n",
    "\n",
    "myList.extend(\"Shoes\")\n",
    "print(\"\\nList after .extend(\\\"Shoes\\\"): \", myList)\n",
    "\n",
    "tempList = [\"Shoes\", \"Black\"]\n",
    "myList.extend(tempList) #extending a list\n",
    "print(\"\\nList after .extend(tempList): \", myList)\n",
    "\n",
    "myList.extend(tempTouple) #extending a touple\n",
    "print(\"\\nList after .extend(tempTouple): \", myList)\n"
   ]
  },
  {
   "cell_type": "markdown",
   "metadata": {},
   "source": [
    "#### Create a list with numeric and perform the following operations.\n",
    "#### &nbsp;&nbsp;&nbsp;&nbsp;Write a program to swap the first and last elements in a list.\n",
    "#### &nbsp;&nbsp;&nbsp;&nbsp;Write a program to find the sum of the values in a list.\n",
    "#### &nbsp;&nbsp;&nbsp;&nbsp;Write a program to find the smallest element in a list."
   ]
  },
  {
   "cell_type": "code",
   "execution_count": 64,
   "metadata": {},
   "outputs": [
    {
     "name": "stdout",
     "output_type": "stream",
     "text": [
      "Original List:  [500, 6398.25, 6542, 21315.51, 561.15, 215]\n",
      "\n",
      "After Swaping the first and last element of the list:  [215, 6398.25, 6542, 21315.51, 561.15, 500]\n",
      "\n",
      "Sum of all the values in the List:  35531.91\n",
      "\n",
      " Smallest element in the list:  215\n"
     ]
    }
   ],
   "source": [
    "def swapFirstLast(numList):\n",
    "    lastNum = numList[-1]\n",
    "    numList[-1] = numList[0]\n",
    "    numList[0] = lastNum\n",
    "    print(\"\\nAfter Swaping the first and last element of the list: \", numList)\n",
    "\n",
    "def sumOfElements(numList):\n",
    "    sum = 0\n",
    "    for i in range(len(numList)):\n",
    "        sum += numList[i]\n",
    "    print(\"\\nSum of all the values in the List: \", round(sum, 2))\n",
    "\n",
    "def smallestElement(numList):\n",
    "    smallestElement = numList[0]\n",
    "    for i in range(1, len(numList)):\n",
    "        if smallestElement > numList[i]:\n",
    "            smallestElement = numList[i]\n",
    "    print(\"\\n Smallest element in the list: \", smallestElement)\n",
    "\n",
    "numList = [500, 6398.25, 6542, 21315.51, 561.15, 215]\n",
    "print(\"Original List: \", numList)\n",
    "swapFirstLast(numList) # swaping the first and last elements in the list\n",
    "sumOfElements(numList) # sum of elements in the list\n",
    "smallestElement(numList)"
   ]
  },
  {
   "cell_type": "markdown",
   "metadata": {},
   "source": [
    "### **Part II**"
   ]
  },
  {
   "cell_type": "markdown",
   "metadata": {},
   "source": [
    "####  Sort the dictionaries in ascending order based on the Key of the dictionary.\n"
   ]
  },
  {
   "cell_type": "code",
   "execution_count": 67,
   "metadata": {},
   "outputs": [
    {
     "name": "stdout",
     "output_type": "stream",
     "text": [
      "Original dictionary:  {'Nike Air Force 1s': 123456, 'Nike Air Max 95 SP': 456789, 'Puma Velophasis Overdyed': 789123, 'Adidas Bonner Samba': 147852, 'New Balance Dore 860v2': 258963, 'CAMPERLAB Tormenta': 369741}\n",
      "\n",
      "Dictionary after sorting:  {'Adidas Bonner Samba': 147852, 'CAMPERLAB Tormenta': 369741, 'New Balance Dore 860v2': 258963, 'Nike Air Force 1s': 123456, 'Nike Air Max 95 SP': 456789, 'Puma Velophasis Overdyed': 789123}\n"
     ]
    }
   ],
   "source": [
    "def sortDictAscending(myDict):\n",
    "    myDict = dict(sorted(myDict.items()))\n",
    "    print(\"\\nDictionary after sorting: \", myDict)\n",
    "\n",
    "myDict = {\"Nike Air Force 1s\": 123456, \"Nike Air Max 95 SP\": 456789, \"Puma Velophasis Overdyed\": 789123, \"Adidas Bonner Samba\" :147852, \"New Balance Dore 860v2\":258963,\"CAMPERLAB Tormenta\": 369741}\n",
    "print(\"Original dictionary: \", myDict)\n",
    "sortDictAscending(myDict)"
   ]
  },
  {
   "cell_type": "markdown",
   "metadata": {},
   "source": [
    "####   Create the dictionary with Numeric as Value in Key – Value pair and find the sum of all the values in the Dictionary.\n"
   ]
  },
  {
   "cell_type": "code",
   "execution_count": 76,
   "metadata": {},
   "outputs": [
    {
     "name": "stdout",
     "output_type": "stream",
     "text": [
      "Original dictionary:  {'Nike Air Force 1s': 123456, 'Nike Air Max 95 SP': 456789, 'Puma Velophasis Overdyed': 789123, 'Adidas Bonner Samba': 147852, 'New Balance Dore 860v2': 258963, 'CAMPERLAB Tormenta': 369741}\n",
      "\n",
      "Sum of all the values of the dictionary:  369741\n"
     ]
    }
   ],
   "source": [
    "def sumOfValues(myDictionary):\n",
    "    sum = 0\n",
    "    valueList = list(myDictionary.values())\n",
    "    for i in range(len(valueList)):\n",
    "        sum = valueList[i]\n",
    "    print(\"\\nSum of all the values of the dictionary: \", sum)\n",
    "        \n",
    "myDict = {\"Nike Air Force 1s\": 123456, \"Nike Air Max 95 SP\": 456789, \"Puma Velophasis Overdyed\": 789123, \"Adidas Bonner Samba\" :147852, \"New Balance Dore 860v2\":258963,\"CAMPERLAB Tormenta\": 369741}\n",
    "print(\"Original dictionary: \", myDict)\n",
    "sumOfValues(myDict)"
   ]
  },
  {
   "cell_type": "markdown",
   "metadata": {},
   "source": [
    "####  Write a Python code to demonstrate the sorting in descending order of values with lambda function."
   ]
  },
  {
   "cell_type": "code",
   "execution_count": 77,
   "metadata": {},
   "outputs": [
    {
     "name": "stdout",
     "output_type": "stream",
     "text": [
      "Original dictionary:  {'Nike Air Force 1s': 123456, 'Nike Air Max 95 SP': 456789, 'Puma Velophasis Overdyed': 789123, 'Adidas Bonner Samba': 147852, 'New Balance Dore 860v2': 258963, 'CAMPERLAB Tormenta': 369741}\n",
      "\n",
      "Dictionary after sorting:  {'Puma Velophasis Overdyed': 789123, 'Nike Air Max 95 SP': 456789, 'CAMPERLAB Tormenta': 369741, 'New Balance Dore 860v2': 258963, 'Adidas Bonner Samba': 147852, 'Nike Air Force 1s': 123456}\n"
     ]
    }
   ],
   "source": [
    "def sortDictDescending(myDictionary):\n",
    "    myDictionary = dict(sorted(myDictionary.items(), key=lambda x:x[1], reverse=True))\n",
    "    print(\"\\nDictionary after sorting: \", myDictionary)\n",
    "\n",
    "myDict = {\"Nike Air Force 1s\": 123456, \"Nike Air Max 95 SP\": 456789, \"Puma Velophasis Overdyed\": 789123, \"Adidas Bonner Samba\" :147852, \"New Balance Dore 860v2\":258963,\"CAMPERLAB Tormenta\": 369741}\n",
    "print(\"Original dictionary: \", myDict)\n",
    "sortDictDescending(myDict)"
   ]
  }
 ],
 "metadata": {
  "kernelspec": {
   "display_name": "Python 3",
   "language": "python",
   "name": "python3"
  },
  "language_info": {
   "codemirror_mode": {
    "name": "ipython",
    "version": 3
   },
   "file_extension": ".py",
   "mimetype": "text/x-python",
   "name": "python",
   "nbconvert_exporter": "python",
   "pygments_lexer": "ipython3",
   "version": "3.11.4"
  },
  "orig_nbformat": 4
 },
 "nbformat": 4,
 "nbformat_minor": 2
}
