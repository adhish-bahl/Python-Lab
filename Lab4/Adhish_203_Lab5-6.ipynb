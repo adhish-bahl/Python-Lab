{
 "cells": [
  {
   "cell_type": "markdown",
   "metadata": {},
   "source": [
    "**Adhish Bahl**\n",
    "\n",
    "**2347203**\n",
    "\n",
    "**1MCA B**\n",
    "\n",
    "**Python Lab**"
   ]
  },
  {
   "cell_type": "markdown",
   "metadata": {},
   "source": [
    "## **Lab 5**"
   ]
  },
  {
   "cell_type": "markdown",
   "metadata": {},
   "source": [
    "#### Q1) Write a program to handle the exception of ZeroDivisionError."
   ]
  },
  {
   "cell_type": "code",
   "execution_count": 7,
   "metadata": {},
   "outputs": [
    {
     "name": "stdout",
     "output_type": "stream",
     "text": [
      "\n",
      "MENU\n",
      "1. Sum of two Numbers\n",
      "2. Difference between two Numbers\n",
      "3. Product of two Numbers\n",
      "4. Division of two Numbers\n",
      "5. Exit\n",
      "\n",
      "ADDITION\n",
      "10 + 0 = 10\n",
      "\n",
      "MENU\n",
      "1. Sum of two Numbers\n",
      "2. Difference between two Numbers\n",
      "3. Product of two Numbers\n",
      "4. Division of two Numbers\n",
      "5. Exit\n",
      "\n",
      "DIVISION\n",
      "Devision by 0 is not allowed\n",
      "Thank you\n",
      "\n",
      "MENU\n",
      "1. Sum of two Numbers\n",
      "2. Difference between two Numbers\n",
      "3. Product of two Numbers\n",
      "4. Division of two Numbers\n",
      "5. Exit\n",
      "\n",
      "MULTIPLICATION\n",
      "10 x 3 = 30\n",
      "\n",
      "MENU\n",
      "1. Sum of two Numbers\n",
      "2. Difference between two Numbers\n",
      "3. Product of two Numbers\n",
      "4. Division of two Numbers\n",
      "5. Exit\n",
      "\n",
      "SUBTRACTION\n",
      "10 - 20 = -10\n",
      "\n",
      "MENU\n",
      "1. Sum of two Numbers\n",
      "2. Difference between two Numbers\n",
      "3. Product of two Numbers\n",
      "4. Division of two Numbers\n",
      "5. Exit\n"
     ]
    }
   ],
   "source": [
    "def add(a, b): \n",
    "    sum = a + b\n",
    "    print(a, \"+\", b, \"=\", sum)\n",
    "\n",
    "def subtract(a, b):\n",
    "    difference = a - b\n",
    "    print(a, \"-\", b, \"=\", difference)\n",
    "\n",
    "def multiply(a, b):\n",
    "    product = a * b\n",
    "    print(a, \"x\", b, \"=\", product)\n",
    "\n",
    "def divide(a, b):\n",
    "    try:\n",
    "        division = a / b\n",
    "        print(a, \"/\", b, \"=\", division)\n",
    "    except ZeroDivisionError as e:\n",
    "        print(\"Devision by 0 is not allowed\")\n",
    "    finally:\n",
    "        print(\"Thank you\")\n",
    "\n",
    "choice = 0\n",
    "while choice != 5:\n",
    "    print(\"\\nMENU\")\n",
    "    print(\"1. Sum of two Numbers\")\n",
    "    print(\"2. Difference between two Numbers\")\n",
    "    print(\"3. Product of two Numbers\")\n",
    "    print(\"4. Division of two Numbers\")\n",
    "    print(\"5. Exit\")\n",
    "    choice = int(input(\"\\nEnter the Choice: \"))\n",
    "\n",
    "    a = int( input(\"First Number: \"))\n",
    "    b = int( input(\"Second Number: \"))\n",
    "    \n",
    "    if choice == 1:\n",
    "        print( \"\\nADDITION\")\n",
    "        add(a, b)\n",
    "    elif choice == 2:  \n",
    "        print( \"\\nSUBTRACTION\")\n",
    "        subtract(a, b)\n",
    "    elif choice == 3:\n",
    "        print( \"\\nMULTIPLICATION\")\n",
    "        multiply(a, b)\n",
    "    elif choice == 4:\n",
    "        print( \"\\nDIVISION\")\n",
    "        divide(a, b)\n",
    "    elif choice == 5:\n",
    "        break\n",
    "    else:  \n",
    "        print( \"Please Provide a valid Input!\")  "
   ]
  },
  {
   "cell_type": "markdown",
   "metadata": {},
   "source": [
    "#### Q2) Write a program to handle the exception of IndexError."
   ]
  },
  {
   "cell_type": "code",
   "execution_count": 8,
   "metadata": {},
   "outputs": [
    {
     "name": "stdout",
     "output_type": "stream",
     "text": [
      "\n",
      "Value Sent!\n",
      "Value at index 2 is: 20\n",
      "\n",
      "Value Sent!\n",
      "Value at index 10 is: 100\n",
      "\n",
      "Value Sent!\n",
      "Value at index 5 is: 50\n",
      "\n",
      "Value Sent!\n",
      "Index out of range. Please enter a valid index.\n",
      "\n",
      "Value Sent!\n",
      "Index out of range. Please enter a valid index.\n",
      "Exiting the program.\n"
     ]
    }
   ],
   "source": [
    "def getElement(data_list, index):\n",
    "    try:\n",
    "        value = data_list[index]\n",
    "        return value\n",
    "    except IndexError:\n",
    "        return \"Index Error\"\n",
    "    finally:\n",
    "        print(\"\\nValue Sent!\")\n",
    "\n",
    "\n",
    "myList = [10, 20, 30, 40, 50, 60, 70, 80, 90, 100]\n",
    "while True:\n",
    "    try:\n",
    "        index = int(input(\"Enter an position to retrieve data (-1 to exit): \"))\n",
    "        \n",
    "        if index == -1:\n",
    "            print(\"Exiting the program.\")\n",
    "            break\n",
    "        element = getElement(myList, index-1)\n",
    "        if element == \"Index Error\":\n",
    "            print(\"Index out of range. Please enter a valid index.\")\n",
    "        else:\n",
    "            print(\"Value at index\", index, \"is:\", element)\n",
    "            \n",
    "    except ValueError:\n",
    "        print(\"Invalid input. Please enter a valid index.\")"
   ]
  },
  {
   "cell_type": "markdown",
   "metadata": {},
   "source": [
    "## **Lab 6**"
   ]
  },
  {
   "cell_type": "markdown",
   "metadata": {},
   "source": [
    "#### Q1) Write a program using the Regular Exception and create a function that accepts a string and searches it for a valid phone number.\n",
    "\n",
    "#### Return the phone number if found.\n",
    "\n",
    "#### A valid phone number may be one of the following:\n",
    "\n",
    "#### (xxx)-xxx-xxxx\n",
    "\n",
    "#### xxx-xxx-xxxx\n"
   ]
  },
  {
   "cell_type": "code",
   "execution_count": 10,
   "metadata": {},
   "outputs": [
    {
     "name": "stdout",
     "output_type": "stream",
     "text": [
      "Your String:  Hello, this is Adhish Bahl. My number is (946-284-9725). I like Python. \n",
      "Valid phone number found: 946-284-9725\n"
     ]
    }
   ],
   "source": [
    "import re\n",
    "\n",
    "def searchNumber(text):\n",
    "    phonePattern = r'\\b(\\(\\d{3}\\)-\\d{3}-\\d{4}|\\d{3}-\\d{3}-\\d{4})\\b'\n",
    "    match = re.search(phonePattern, text)\n",
    "    if match:\n",
    "        return match.group(0)\n",
    "    else:\n",
    "        return None\n",
    "\n",
    "inputText = input(\"Enter a string: \")\n",
    "phoneNumber = searchNumber(inputText)\n",
    "\n",
    "if phoneNumber:\n",
    "    print(\"Your String: \", inputText, \"\\nValid phone number found:\", phoneNumber)\n",
    "else:\n",
    "    print(\"Your String: \", inputText, \"\\nNo valid phone number found in the string.\")"
   ]
  },
  {
   "cell_type": "markdown",
   "metadata": {},
   "source": [
    "#### Q2. Write a function that employs regular expressions to ensure the password given to the function is strong.\n",
    "#### A strong password is defined as follows:\n",
    "#### ·       at least eight characters long\n",
    "#### ·       contains one uppercase character\n",
    "#### ·       contains one lowercase character\n",
    "#### ·       has at least one digit\n",
    "#### ·       has at least one special character\n",
    "#### [For instance: Christ@123]"
   ]
  },
  {
   "cell_type": "code",
   "execution_count": 2,
   "metadata": {},
   "outputs": [
    {
     "name": "stdout",
     "output_type": "stream",
     "text": [
      "Your password ' Adhishbahl. ' is not strong. It should have at least 8 characters, one uppercase letter, one lowercase letter, one digit, and one special character.\n"
     ]
    }
   ],
   "source": [
    "import re\n",
    "\n",
    "def checkPassword(password):\n",
    "    passwordPattern = r\"^(?=.*[A-Z])(?=.*[a-z])(?=.*\\d)(?=.*[@#$%^&+=!]).{8,}$\"\n",
    "    \n",
    "    if re.match(passwordPattern, password):\n",
    "        return True\n",
    "    else:\n",
    "        return False\n",
    "\n",
    "password = input(\"Enter a password to check if it's strong: \")\n",
    "if checkPassword(password):\n",
    "    print(\"Your password \\'\", password, \"\\' is strong.\")\n",
    "else:\n",
    "    print(\"Your password \\'\", password, \"\\' is not strong. It should have at least 8 characters, one uppercase letter, one lowercase letter, one digit, and one special character.\")\n"
   ]
  }
 ],
 "metadata": {
  "kernelspec": {
   "display_name": "Python 3",
   "language": "python",
   "name": "python3"
  },
  "language_info": {
   "codemirror_mode": {
    "name": "ipython",
    "version": 3
   },
   "file_extension": ".py",
   "mimetype": "text/x-python",
   "name": "python",
   "nbconvert_exporter": "python",
   "pygments_lexer": "ipython3",
   "version": "3.11.5"
  },
  "orig_nbformat": 4
 },
 "nbformat": 4,
 "nbformat_minor": 2
}
