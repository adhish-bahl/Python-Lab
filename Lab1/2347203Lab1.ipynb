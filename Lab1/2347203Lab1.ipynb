{
 "cells": [
  {
   "cell_type": "markdown",
   "metadata": {},
   "source": [
    "# **Part 1**"
   ]
  },
  {
   "cell_type": "markdown",
   "metadata": {},
   "source": [
    "#### Write a paragraph about introducing you and your selected domain (include Full Name, domain name, register number, year).\n",
    "#### Write a python program to count the frequency of any specific word (in your domain) in the paragraph."
   ]
  },
  {
   "cell_type": "code",
   "execution_count": 17,
   "metadata": {},
   "outputs": [
    {
     "name": "stdout",
     "output_type": "stream",
     "text": [
      "Domain Description:  Hii, My name is Adhish Bahl (2347203), from 1MCA-B. This is my Python Lab program 1. My domain is Online Retail Store for Exclusive Sneakers. In this domain, the basic idea behind everthing is to provide the access to exclusive sneakers that are not available in India. This works as the company buys the exclusive sneakers, that are not available in India, from different cuntries and then sell those exclusive sneakers to the Indian people. This solves a very big gap that exist in the India Sneaker market. The gap of some sneakers that are not available in India to making them available in India. \n",
      "\n",
      "Occurance of \" sneakers \" in the domain Description =  5  times.\n"
     ]
    }
   ],
   "source": [
    "name = \"Adhish Bahl\"\n",
    "regNo = 2347203\n",
    "course = \"1MCA B\"\n",
    "domain = \"Online Retail Store for Exclusive Sneakers\"\n",
    "domainDescription = \"Hii, My name is Adhish Bahl (2347203), from 1MCA-B. This is my Python Lab program 1. My domain is Online Retail Store for Exclusive Sneakers. In this domain, the basic idea behind everthing is to provide the access to exclusive sneakers that are not available in India. This works as the company buys the exclusive sneakers, that are not available in India, from different cuntries and then sell those exclusive sneakers to the Indian people. This solves a very big gap that exist in the India Sneaker market. The gap of some sneakers that are not available in India to making them available in India.\"\n",
    "\n",
    "para = domainDescription.lower()\n",
    "wordToFind = input(\"Enter the word to get the count: \")\n",
    "countOfWord = para.count(wordToFind)\n",
    "print(\"Domain Description: \", domainDescription, \"\\n\")\n",
    "print(\"Occurance of \\\"\", wordToFind, \"\\\" in the domain Description = \", countOfWord, \" times.\")"
   ]
  },
  {
   "cell_type": "markdown",
   "metadata": {},
   "source": [
    "#### Write a python program to display all the datatypes of selected specific elements in the paragraph. (For example:– name - string, reg.no - int, marks - float, etc.)\n"
   ]
  },
  {
   "cell_type": "code",
   "execution_count": 16,
   "metadata": {},
   "outputs": [
    {
     "name": "stdout",
     "output_type": "stream",
     "text": [
      "Hii,  is String\n",
      "My  is String\n",
      "name  is String\n",
      "is  is String\n",
      "Adhish  is String\n",
      "Bahl,  is String\n",
      "2347203,  is Integer.\n",
      "from  is String\n",
      "1MCA-B.  is float.\n",
      "This  is String\n",
      "is  is String\n",
      "my  is String\n",
      "Python  is String\n",
      "Lab  is String\n",
      "program  is String\n",
      "1.  is float.\n",
      "I  is String\n",
      "got  is String\n",
      "9.39  is float.\n",
      "GCPA  is String\n",
      "in  is String\n",
      "my  is String\n",
      "undergrade  is String\n",
      "degree.  is String\n",
      "My  is String\n",
      "domain  is String\n",
      "is  is String\n",
      "Online  is String\n",
      "Retail  is String\n",
      "Store  is String\n",
      "for  is String\n",
      "Exclusive  is String\n",
      "Sneakers.  is String\n",
      "In  is String\n",
      "this  is String\n",
      "domain,  is String\n",
      "the  is String\n",
      "basic  is String\n",
      "idea  is String\n",
      "behind  is String\n",
      "everthing  is String\n",
      "is  is String\n",
      "to  is String\n",
      "provide  is String\n",
      "the  is String\n",
      "access  is String\n",
      "to  is String\n",
      "exclusive  is String\n",
      "sneakers  is String\n",
      "that  is String\n",
      "are  is String\n",
      "not  is String\n",
      "available  is String\n",
      "in  is String\n",
      "India.  is String\n",
      "This  is String\n",
      "works  is String\n",
      "as  is String\n",
      "the  is String\n",
      "company  is String\n",
      "buys  is String\n",
      "the  is String\n",
      "exclusive  is String\n",
      "sneakers,  is String\n",
      "that  is String\n",
      "are  is String\n",
      "not  is String\n",
      "available  is String\n",
      "in  is String\n",
      "India,  is String\n",
      "from  is String\n",
      "different  is String\n",
      "cuntries  is String\n",
      "and  is String\n",
      "then  is String\n",
      "sell  is String\n",
      "those  is String\n",
      "exclusive  is String\n",
      "sneakers  is String\n",
      "to  is String\n",
      "the  is String\n",
      "Indian  is String\n",
      "people.  is String\n",
      "This  is String\n",
      "solves  is String\n",
      "a  is String\n",
      "very  is String\n",
      "big  is String\n",
      "gap  is String\n",
      "that  is String\n",
      "exist  is String\n",
      "in  is String\n",
      "the  is String\n",
      "India  is String\n",
      "Sneaker  is String\n",
      "market.  is String\n",
      "The  is String\n",
      "gap  is String\n",
      "of  is String\n",
      "some  is String\n",
      "sneakers  is String\n",
      "that  is String\n",
      "are  is String\n",
      "not  is String\n",
      "available  is String\n",
      "in  is String\n",
      "India  is String\n",
      "to  is String\n",
      "making  is String\n",
      "them  is String\n",
      "available  is String\n",
      "in  is String\n",
      "India.  is String\n"
     ]
    }
   ],
   "source": [
    "domainDescription = \"Hii, My name is Adhish Bahl, 2347203, from 1MCA-B. This is my Python Lab program 1. I got 9.39 GCPA in my undergrade degree. My domain is Online Retail Store for Exclusive Sneakers. In this domain, the basic idea behind everthing is to provide the access to exclusive sneakers that are not available in India. This works as the company buys the exclusive sneakers, that are not available in India, from different cuntries and then sell those exclusive sneakers to the Indian people. This solves a very big gap that exist in the India Sneaker market. The gap of some sneakers that are not available in India to making them available in India.\"\n",
    "\n",
    "words = domainDescription.split(\" \")\n",
    "\n",
    "for i in words:\n",
    "    for j in i:\n",
    "        if (ord(j) >= 48 and ord(j) <= 57):\n",
    "            if \".\" in i:\n",
    "                print(i, \" is float.\")\n",
    "                break\n",
    "            else:\n",
    "                print(i, \" is Integer.\")\n",
    "                break\n",
    "        else:\n",
    "            print(i, \" is String\")\n",
    "            break"
   ]
  },
  {
   "cell_type": "markdown",
   "metadata": {},
   "source": [
    "#### Write a python program to count the number of alphabets, numeric and other special symbols in the paragraph."
   ]
  },
  {
   "cell_type": "code",
   "execution_count": 20,
   "metadata": {},
   "outputs": [
    {
     "name": "stdout",
     "output_type": "stream",
     "text": [
      "\n",
      "Total count of\n",
      "Alphabets:  4 \n",
      "Digits:  4 \n",
      "Special Charectors:  6\n"
     ]
    }
   ],
   "source": [
    "alphabets = 0\n",
    "digits = 0\n",
    "specialCh = 0\n",
    "choice = 0\n",
    "domainDescription = \"Hii, My name is Adhish Bahl (2347203), from 1MCA-B. This is my Python Lab program 1. My domain is Online Retail Store for Exclusive Sneakers. In this domain, the basic idea behind everthing is to provide the access to exclusive sneakers that are not available in India. This works as the company buys the exclusive sneakers, that are not available in India, from different cuntries and then sell those exclusive sneakers to the Indian people. This solves a very big gap that exist in the India Sneaker market. The gap of some sneakers that are not available in India to making them available in India.\"\n",
    "customString =\"\"\n",
    "\n",
    "while(choice != 1 and choice != 2):\n",
    "    choice = int(input(\"Choose one:\\n1. Enter my own string\\n2. Check count from domain description\"))\n",
    "\n",
    "if choice == 1:\n",
    "    customString = input(\"Enter your String\")\n",
    "    for i in range(len(customString)):\n",
    "        if((ord(customString[i]) >= 65 and ord(customString[i]) <= 90) or (ord(customString[i]) >= 97 and ord(customString[i]) <= 122)):\n",
    "            alphabets = alphabets + 1\n",
    "        elif(ord(customString[i]) >= 48 and ord(customString[i]) <= 57): \n",
    "            digits = digits + 1 \n",
    "        else:\n",
    "            specialCh = specialCh + 1\n",
    "elif choice == 2 :\n",
    "    for i in range(len(domainDescription)):\n",
    "        if((ord(domainDescription[i]) >= 65 and ord(domainDescription[i]) <= 90) or (ord(domainDescription[i]) >= 97 and ord(domainDescription[i]) <= 122)):\n",
    "            alphabets = alphabets + 1\n",
    "        elif(ord(domainDescription[i]) >= 48 and ord(domainDescription[i]) <= 57): \n",
    "            digits = digits + 1 \n",
    "        else:\n",
    "            specialCh = specialCh + 1\n",
    "        \n",
    "print(\"\\nTotal count of\\nAlphabets: \", alphabets, \"\\nDigits: \", digits, \"\\nSpecial Charectors: \", specialCh)"
   ]
  },
  {
   "cell_type": "markdown",
   "metadata": {},
   "source": [
    "# **Part 2: Sets and Tuples**"
   ]
  },
  {
   "cell_type": "markdown",
   "metadata": {},
   "source": [
    "#### Create a Set with elements that consists of various data types (int, float, string, Boolean, etc. from your domain) and perform the functions pop(), clear(), discard() and del. Write the insights as docstring.\n"
   ]
  },
  {
   "cell_type": "code",
   "execution_count": 41,
   "metadata": {},
   "outputs": [
    {
     "name": "stdout",
     "output_type": "stream",
     "text": [
      "Initial Set:  {False, True, 10245.36, 'Nike', 'Adhish', 6153.51, 'Air Force', 486323, 51637}\n",
      "\n",
      "After using .pop():  {True, 10245.36, 'Nike', 'Adhish', 6153.51, 'Air Force', 486323, 51637} \n",
      "Element removed is:  False\n",
      "\n",
      "After using .discard(51637):  {True, 10245.36, 'Nike', 'Adhish', 6153.51, 'Air Force', 486323}\n",
      "\n",
      "After using .discard(\"Nike\"):  {True, 10245.36, 'Adhish', 6153.51, 'Air Force', 486323}\n",
      "\n",
      "After using .clear():  set()\n",
      "\n",
      "After using del: Set is deleted and hence it does not exist\n"
     ]
    }
   ],
   "source": [
    "randomSet = {\"Adhish\", 51637, \"Nike\", 10245.36, True, 486323, 6153.51, False, \"Air Force\"}\n",
    "print(\"Initial Set: \", randomSet)\n",
    "poppedElement = randomSet.pop()\n",
    "print(\"\\nAfter using .pop(): \", randomSet, \"\\nElement removed is: \", poppedElement)\n",
    "poppedElement = randomSet.discard(51637)\n",
    "print(\"\\nAfter using .discard(51637): \", randomSet)\n",
    "poppedElement = randomSet.discard(\"Nike\")\n",
    "print(\"\\nAfter using .discard(\\\"Nike\\\"): \", randomSet)\n",
    "randomSet.clear()\n",
    "print(\"\\nAfter using .clear(): \", randomSet)\n",
    "del randomSet\n",
    "print(\"\\nAfter using del: Set is deleted and hence it does not exist\")"
   ]
  },
  {
   "cell_type": "markdown",
   "metadata": {},
   "source": [
    "#### Update the Set with minimum 5 string attributes of your domain and arrange the Set in descending order."
   ]
  },
  {
   "cell_type": "code",
   "execution_count": 47,
   "metadata": {},
   "outputs": [
    {
     "name": "stdout",
     "output_type": "stream",
     "text": [
      "Initial Set:  {'BAhl', 'Adhish', 'Ok', '8573', 'True', '123'}\n",
      "\n",
      "After Ascending Sorting the set:  ['123', '8573', 'Adhish', 'BAhl', 'Ok', 'True']\n",
      "\n",
      "After Descending Sorting the set:  ['True', 'Ok', 'BAhl', 'Adhish', '8573', '123']\n"
     ]
    }
   ],
   "source": [
    "randomSet = set()\n",
    "for i in range(6):\n",
    "    tempVar = input(\"Give an element for the set: \")\n",
    "    randomSet.add(tempVar)\n",
    "\n",
    "print(\"Initial Set: \", randomSet)\n",
    "print(\"\\nAfter Ascending Sorting the set: \", sorted(randomSet))\n",
    "print(\"\\nAfter Descending Sorting the set: \", sorted(randomSet, reverse=True))"
   ]
  },
  {
   "cell_type": "markdown",
   "metadata": {},
   "source": [
    "#### Create a Tuple and Execute the packing and unpacking operations of tuples using the attributes of your domain."
   ]
  },
  {
   "cell_type": "code",
   "execution_count": 21,
   "metadata": {},
   "outputs": [
    {
     "name": "stdout",
     "output_type": "stream",
     "text": [
      "Original Tuple: ('Nike', 'Order Placed', 'Air Jorden', 'Addidas', 'BLue', 'Exclusive', 'Shipped')\n",
      "\n",
      "Unpacked Variables:\n",
      "First Term: Nike\n",
      "Second Term: Order Placed\n",
      "Third Term: Air Jorden\n",
      "Fourth Term: Addidas\n",
      "Fifth Term: BLue\n",
      "Sixth Term: Exclusive\n",
      "Seventh Term: Shipped\n"
     ]
    }
   ],
   "source": [
    "def packingUnpackingTuple():\n",
    "    domainTuple = (\"Nike\", \"Order Placed\", \"Air Jorden\", \"Addidas\", \"BLue\", \"Exclusive\", \"Shipped\")\n",
    "    print(\"Original Tuple:\", domainTuple)\n",
    "    firstTerm, secondTerm, thirdTerm, fourthTerm, fifthTerm, sixthTerm, seventhTerm = domainTuple\n",
    "    print(\"\\nUnpacked Variables:\")\n",
    "    print(\"First Term:\", firstTerm)\n",
    "    print(\"Second Term:\", secondTerm)\n",
    "    print(\"Third Term:\", thirdTerm)\n",
    "    print(\"Fourth Term:\", fourthTerm)\n",
    "    print(\"Fifth Term:\", fifthTerm)\n",
    "    print(\"Sixth Term:\", sixthTerm)\n",
    "    print(\"Seventh Term:\", seventhTerm)\n",
    "\n",
    "packingUnpackingTuple()\n"
   ]
  },
  {
   "cell_type": "markdown",
   "metadata": {},
   "source": [
    "#### Enter your domain name as characters and count any number of characters and print the count (for example – (‘p’,’r’,’o’,’g’,’r’,’a’,’m’) count of ‘r’ = 2)"
   ]
  },
  {
   "cell_type": "code",
   "execution_count": 8,
   "metadata": {},
   "outputs": [
    {
     "name": "stdout",
     "output_type": "stream",
     "text": [
      "Domain Name:  this is my domain name \n",
      "Letter to count in Domain:  a \n",
      "Count of letter in the domain name:  2\n"
     ]
    }
   ],
   "source": [
    "def countLetter(domain, letter):\n",
    "    countOfLetter = domain.lower().count(letter.lower())\n",
    "    return(countOfLetter)\n",
    "\n",
    "domain = input(\"Enter your Domain Name: \")\n",
    "letter = input(\"Enter the letter you want to count\")\n",
    "totalCount = countLetter(domain, letter)\n",
    "print(\"Domain Name: \", domain, \"\\nLetter to count in Domain: \", letter, \"\\nCount of letter in the domain name: \", totalCount)"
   ]
  },
  {
   "cell_type": "markdown",
   "metadata": {},
   "source": [
    "#### Enter your domain name, execute all the slicing possibilities and also negative indexing."
   ]
  },
  {
   "cell_type": "code",
   "execution_count": 14,
   "metadata": {},
   "outputs": [
    {
     "name": "stdout",
     "output_type": "stream",
     "text": [
      "Original Domain Name: Inline Store for Exclusive Sneakers\n",
      "\n",
      "Positive Slicing:\n",
      "Slicing from index 2 to 8: line S\n",
      "Slicing from index 0 to 3: Inl\n",
      "Slicing from index 7 to the end: Store for Exclusive Sneakers\n",
      "Slicing from index 5 to 15 with step 3: eteo\n",
      "\n",
      "Negative Slicing:\n",
      "Slicing from the end -10 to the end -3: e Sneak\n",
      "Slicing from the end -10 to the end -3 with step 2: eSek\n",
      "\n",
      "Positive Indexing:\n",
      "first character: I\n",
      "10th character: o\n",
      "\n",
      "Negative Indexing:\n",
      "Last character: s\n",
      "5th charector from last character: a\n"
     ]
    }
   ],
   "source": [
    "\n",
    "def slicingAndIndexing(domainName): \n",
    "    print(\"Original Domain Name:\", domainName) \n",
    "    print(\"\\nPositive Slicing:\")\n",
    "    print(\"Slicing from index 2 to 8:\", domainName[2:8])\n",
    "    print(\"Slicing from index 0 to 3:\", domainName[:3])\n",
    "    print(\"Slicing from index 7 to the end:\", domainName[7:])\n",
    "    print(\"Slicing from index 5 to 15 with step 3:\", domainName[5:15:3])\n",
    "    print(\"\\nNegative Slicing:\")\n",
    "    print(\"Slicing from the end -10 to the end -3:\", domainName[-10:-3]) \n",
    "    print(\"Slicing from the end -10 to the end -3 with step 2:\", domainName[-10:-3:2])\n",
    "    print(\"\\nPositive Indexing:\")\n",
    "    print(\"first character:\", domainName[0])\n",
    "    print(\"10th character:\", domainName[9])\n",
    "    print(\"\\nNegative Indexing:\")\n",
    "    print(\"Last character:\", domainName[-1])\n",
    "    print(\"5th charector from last character:\", domainName[-5])\n",
    "\n",
    "domainName = input(\"Enter your Domain Name: \")\n",
    "slicingAndIndexing(domainName)"
   ]
  }
 ],
 "metadata": {
  "kernelspec": {
   "display_name": "Python 3",
   "language": "python",
   "name": "python3"
  },
  "language_info": {
   "codemirror_mode": {
    "name": "ipython",
    "version": 3
   },
   "file_extension": ".py",
   "mimetype": "text/x-python",
   "name": "python",
   "nbconvert_exporter": "python",
   "pygments_lexer": "ipython3",
   "version": "3.11.4"
  },
  "orig_nbformat": 4
 },
 "nbformat": 4,
 "nbformat_minor": 2
}
